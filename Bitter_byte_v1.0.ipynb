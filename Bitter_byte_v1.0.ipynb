{
 "cells": [
  {
   "cell_type": "code",
   "execution_count": 3,
   "metadata": {},
   "outputs": [
    {
     "name": "stdout",
     "output_type": "stream",
     "text": [
      "Hell Bitter  Byte\n"
     ]
    }
   ],
   "source": [
    "print(\"Hell Bitter  Byte\")"
   ]
  },
  {
   "cell_type": "code",
   "execution_count": 4,
   "metadata": {},
   "outputs": [],
   "source": [
    "# Import our dependencies\n",
    "import pandas as pd\n",
    "import matplotlib.pyplot as plt\n",
    "%matplotlib inline\n",
    "import sklearn as skl\n",
    "import tensorflow as tf\n",
    "from sklearn.model_selection import train_test_split\n",
    "from pathlib import Path\n",
    "import numpy as np\n",
    "from sklearn.metrics import classification_report\n",
    "from sklearn.compose import ColumnTransformer\n",
    "from sklearn.preprocessing import OneHotEncoder\n",
    "from sklearn.preprocessing import OrdinalEncoder\n",
    "from keras.layers import Dropout\n",
    "\n",
    "from imblearn.combine import SMOTEENN\n",
    "from imblearn.over_sampling import SMOTE\n",
    "from statsmodels.stats.outliers_influence import variance_inflation_factor\n",
    "from pyspark.sql import SparkSession"
   ]
  },
  {
   "cell_type": "code",
   "execution_count": 5,
   "metadata": {},
   "outputs": [
    {
     "data": {
      "text/html": [
       "<div>\n",
       "<style scoped>\n",
       "    .dataframe tbody tr th:only-of-type {\n",
       "        vertical-align: middle;\n",
       "    }\n",
       "\n",
       "    .dataframe tbody tr th {\n",
       "        vertical-align: top;\n",
       "    }\n",
       "\n",
       "    .dataframe thead th {\n",
       "        text-align: right;\n",
       "    }\n",
       "</style>\n",
       "<table border=\"1\" class=\"dataframe\">\n",
       "  <thead>\n",
       "    <tr style=\"text-align: right;\">\n",
       "      <th></th>\n",
       "      <th>LoanNr_ChkDgt</th>\n",
       "      <th>Name</th>\n",
       "      <th>City</th>\n",
       "      <th>State</th>\n",
       "      <th>Zip</th>\n",
       "      <th>Bank</th>\n",
       "      <th>BankState</th>\n",
       "      <th>NAICS</th>\n",
       "      <th>ApprovalDate</th>\n",
       "      <th>ApprovalFY</th>\n",
       "      <th>...</th>\n",
       "      <th>RevLineCr</th>\n",
       "      <th>LowDoc</th>\n",
       "      <th>ChgOffDate</th>\n",
       "      <th>DisbursementDate</th>\n",
       "      <th>DisbursementGross</th>\n",
       "      <th>BalanceGross</th>\n",
       "      <th>MIS_Status</th>\n",
       "      <th>ChgOffPrinGr</th>\n",
       "      <th>GrAppv</th>\n",
       "      <th>SBA_Appv</th>\n",
       "    </tr>\n",
       "  </thead>\n",
       "  <tbody>\n",
       "    <tr>\n",
       "      <th>0</th>\n",
       "      <td>1000014003</td>\n",
       "      <td>ABC HOBBYCRAFT</td>\n",
       "      <td>EVANSVILLE</td>\n",
       "      <td>IN</td>\n",
       "      <td>47711</td>\n",
       "      <td>FIFTH THIRD BANK</td>\n",
       "      <td>OH</td>\n",
       "      <td>451120</td>\n",
       "      <td>28-Feb-97</td>\n",
       "      <td>1997</td>\n",
       "      <td>...</td>\n",
       "      <td>N</td>\n",
       "      <td>Y</td>\n",
       "      <td></td>\n",
       "      <td>28-Feb-99</td>\n",
       "      <td>$60,000.00</td>\n",
       "      <td>$0.00</td>\n",
       "      <td>P I F</td>\n",
       "      <td>$0.00</td>\n",
       "      <td>$60,000.00</td>\n",
       "      <td>$48,000.00</td>\n",
       "    </tr>\n",
       "    <tr>\n",
       "      <th>1</th>\n",
       "      <td>1000024006</td>\n",
       "      <td>LANDMARK BAR &amp; GRILLE (THE)</td>\n",
       "      <td>NEW PARIS</td>\n",
       "      <td>IN</td>\n",
       "      <td>46526</td>\n",
       "      <td>1ST SOURCE BANK</td>\n",
       "      <td>IN</td>\n",
       "      <td>722410</td>\n",
       "      <td>28-Feb-97</td>\n",
       "      <td>1997</td>\n",
       "      <td>...</td>\n",
       "      <td>N</td>\n",
       "      <td>Y</td>\n",
       "      <td></td>\n",
       "      <td>31-May-97</td>\n",
       "      <td>$40,000.00</td>\n",
       "      <td>$0.00</td>\n",
       "      <td>P I F</td>\n",
       "      <td>$0.00</td>\n",
       "      <td>$40,000.00</td>\n",
       "      <td>$32,000.00</td>\n",
       "    </tr>\n",
       "    <tr>\n",
       "      <th>2</th>\n",
       "      <td>1000034009</td>\n",
       "      <td>WHITLOCK DDS, TODD M.</td>\n",
       "      <td>BLOOMINGTON</td>\n",
       "      <td>IN</td>\n",
       "      <td>47401</td>\n",
       "      <td>GRANT COUNTY STATE BANK</td>\n",
       "      <td>IN</td>\n",
       "      <td>621210</td>\n",
       "      <td>28-Feb-97</td>\n",
       "      <td>1997</td>\n",
       "      <td>...</td>\n",
       "      <td>N</td>\n",
       "      <td>N</td>\n",
       "      <td></td>\n",
       "      <td>31-Dec-97</td>\n",
       "      <td>$287,000.00</td>\n",
       "      <td>$0.00</td>\n",
       "      <td>P I F</td>\n",
       "      <td>$0.00</td>\n",
       "      <td>$287,000.00</td>\n",
       "      <td>$215,250.00</td>\n",
       "    </tr>\n",
       "    <tr>\n",
       "      <th>3</th>\n",
       "      <td>1000044001</td>\n",
       "      <td>BIG BUCKS PAWN &amp; JEWELRY, LLC</td>\n",
       "      <td>BROKEN ARROW</td>\n",
       "      <td>OK</td>\n",
       "      <td>74012</td>\n",
       "      <td>1ST NATL BK &amp; TR CO OF BROKEN</td>\n",
       "      <td>OK</td>\n",
       "      <td>0</td>\n",
       "      <td>28-Feb-97</td>\n",
       "      <td>1997</td>\n",
       "      <td>...</td>\n",
       "      <td>N</td>\n",
       "      <td>Y</td>\n",
       "      <td></td>\n",
       "      <td>30-Jun-97</td>\n",
       "      <td>$35,000.00</td>\n",
       "      <td>$0.00</td>\n",
       "      <td>P I F</td>\n",
       "      <td>$0.00</td>\n",
       "      <td>$35,000.00</td>\n",
       "      <td>$28,000.00</td>\n",
       "    </tr>\n",
       "    <tr>\n",
       "      <th>4</th>\n",
       "      <td>1000054004</td>\n",
       "      <td>ANASTASIA CONFECTIONS, INC.</td>\n",
       "      <td>ORLANDO</td>\n",
       "      <td>FL</td>\n",
       "      <td>32801</td>\n",
       "      <td>FLORIDA BUS. DEVEL CORP</td>\n",
       "      <td>FL</td>\n",
       "      <td>0</td>\n",
       "      <td>28-Feb-97</td>\n",
       "      <td>1997</td>\n",
       "      <td>...</td>\n",
       "      <td>N</td>\n",
       "      <td>N</td>\n",
       "      <td></td>\n",
       "      <td>14-May-97</td>\n",
       "      <td>$229,000.00</td>\n",
       "      <td>$0.00</td>\n",
       "      <td>P I F</td>\n",
       "      <td>$0.00</td>\n",
       "      <td>$229,000.00</td>\n",
       "      <td>$229,000.00</td>\n",
       "    </tr>\n",
       "    <tr>\n",
       "      <th>...</th>\n",
       "      <td>...</td>\n",
       "      <td>...</td>\n",
       "      <td>...</td>\n",
       "      <td>...</td>\n",
       "      <td>...</td>\n",
       "      <td>...</td>\n",
       "      <td>...</td>\n",
       "      <td>...</td>\n",
       "      <td>...</td>\n",
       "      <td>...</td>\n",
       "      <td>...</td>\n",
       "      <td>...</td>\n",
       "      <td>...</td>\n",
       "      <td>...</td>\n",
       "      <td>...</td>\n",
       "      <td>...</td>\n",
       "      <td>...</td>\n",
       "      <td>...</td>\n",
       "      <td>...</td>\n",
       "      <td>...</td>\n",
       "      <td>...</td>\n",
       "    </tr>\n",
       "    <tr>\n",
       "      <th>899159</th>\n",
       "      <td>9995573004</td>\n",
       "      <td>FABRIC FARMS</td>\n",
       "      <td>UPPER ARLINGTON</td>\n",
       "      <td>OH</td>\n",
       "      <td>43221</td>\n",
       "      <td>JPMORGAN CHASE BANK NATL ASSOC</td>\n",
       "      <td>IL</td>\n",
       "      <td>451120</td>\n",
       "      <td>27-Feb-97</td>\n",
       "      <td>1997</td>\n",
       "      <td>...</td>\n",
       "      <td>0</td>\n",
       "      <td>N</td>\n",
       "      <td></td>\n",
       "      <td>30-Sep-97</td>\n",
       "      <td>$70,000.00</td>\n",
       "      <td>$0.00</td>\n",
       "      <td>P I F</td>\n",
       "      <td>$0.00</td>\n",
       "      <td>$70,000.00</td>\n",
       "      <td>$56,000.00</td>\n",
       "    </tr>\n",
       "    <tr>\n",
       "      <th>899160</th>\n",
       "      <td>9995603000</td>\n",
       "      <td>FABRIC FARMS</td>\n",
       "      <td>COLUMBUS</td>\n",
       "      <td>OH</td>\n",
       "      <td>43221</td>\n",
       "      <td>JPMORGAN CHASE BANK NATL ASSOC</td>\n",
       "      <td>IL</td>\n",
       "      <td>451130</td>\n",
       "      <td>27-Feb-97</td>\n",
       "      <td>1997</td>\n",
       "      <td>...</td>\n",
       "      <td>Y</td>\n",
       "      <td>N</td>\n",
       "      <td></td>\n",
       "      <td>31-Oct-97</td>\n",
       "      <td>$85,000.00</td>\n",
       "      <td>$0.00</td>\n",
       "      <td>P I F</td>\n",
       "      <td>$0.00</td>\n",
       "      <td>$85,000.00</td>\n",
       "      <td>$42,500.00</td>\n",
       "    </tr>\n",
       "    <tr>\n",
       "      <th>899161</th>\n",
       "      <td>9995613003</td>\n",
       "      <td>RADCO MANUFACTURING CO.,INC.</td>\n",
       "      <td>SANTA MARIA</td>\n",
       "      <td>CA</td>\n",
       "      <td>93455</td>\n",
       "      <td>RABOBANK, NATIONAL ASSOCIATION</td>\n",
       "      <td>CA</td>\n",
       "      <td>332321</td>\n",
       "      <td>27-Feb-97</td>\n",
       "      <td>1997</td>\n",
       "      <td>...</td>\n",
       "      <td>N</td>\n",
       "      <td>N</td>\n",
       "      <td></td>\n",
       "      <td>30-Sep-97</td>\n",
       "      <td>$300,000.00</td>\n",
       "      <td>$0.00</td>\n",
       "      <td>P I F</td>\n",
       "      <td>$0.00</td>\n",
       "      <td>$300,000.00</td>\n",
       "      <td>$225,000.00</td>\n",
       "    </tr>\n",
       "    <tr>\n",
       "      <th>899162</th>\n",
       "      <td>9995973006</td>\n",
       "      <td>MARUTAMA HAWAII, INC.</td>\n",
       "      <td>HONOLULU</td>\n",
       "      <td>HI</td>\n",
       "      <td>96830</td>\n",
       "      <td>BANK OF HAWAII</td>\n",
       "      <td>HI</td>\n",
       "      <td>0</td>\n",
       "      <td>27-Feb-97</td>\n",
       "      <td>1997</td>\n",
       "      <td>...</td>\n",
       "      <td>N</td>\n",
       "      <td>Y</td>\n",
       "      <td>8-Mar-00</td>\n",
       "      <td>31-Mar-97</td>\n",
       "      <td>$75,000.00</td>\n",
       "      <td>$0.00</td>\n",
       "      <td>CHGOFF</td>\n",
       "      <td>$46,383.00</td>\n",
       "      <td>$75,000.00</td>\n",
       "      <td>$60,000.00</td>\n",
       "    </tr>\n",
       "    <tr>\n",
       "      <th>899163</th>\n",
       "      <td>9996003010</td>\n",
       "      <td>PACIFIC TRADEWINDS FAN &amp; LIGHT</td>\n",
       "      <td>KAILUA</td>\n",
       "      <td>HI</td>\n",
       "      <td>96734</td>\n",
       "      <td>CENTRAL PACIFIC BANK</td>\n",
       "      <td>HI</td>\n",
       "      <td>0</td>\n",
       "      <td>27-Feb-97</td>\n",
       "      <td>1997</td>\n",
       "      <td>...</td>\n",
       "      <td>N</td>\n",
       "      <td>N</td>\n",
       "      <td></td>\n",
       "      <td>31-May-97</td>\n",
       "      <td>$30,000.00</td>\n",
       "      <td>$0.00</td>\n",
       "      <td>P I F</td>\n",
       "      <td>$0.00</td>\n",
       "      <td>$30,000.00</td>\n",
       "      <td>$24,000.00</td>\n",
       "    </tr>\n",
       "  </tbody>\n",
       "</table>\n",
       "<p>899164 rows × 27 columns</p>\n",
       "</div>"
      ],
      "text/plain": [
       "       LoanNr_ChkDgt                            Name             City State  \\\n",
       "0         1000014003                  ABC HOBBYCRAFT       EVANSVILLE    IN   \n",
       "1         1000024006     LANDMARK BAR & GRILLE (THE)        NEW PARIS    IN   \n",
       "2         1000034009           WHITLOCK DDS, TODD M.      BLOOMINGTON    IN   \n",
       "3         1000044001   BIG BUCKS PAWN & JEWELRY, LLC     BROKEN ARROW    OK   \n",
       "4         1000054004     ANASTASIA CONFECTIONS, INC.          ORLANDO    FL   \n",
       "...              ...                             ...              ...   ...   \n",
       "899159    9995573004                    FABRIC FARMS  UPPER ARLINGTON    OH   \n",
       "899160    9995603000                    FABRIC FARMS         COLUMBUS    OH   \n",
       "899161    9995613003    RADCO MANUFACTURING CO.,INC.      SANTA MARIA    CA   \n",
       "899162    9995973006           MARUTAMA HAWAII, INC.         HONOLULU    HI   \n",
       "899163    9996003010  PACIFIC TRADEWINDS FAN & LIGHT           KAILUA    HI   \n",
       "\n",
       "          Zip                            Bank BankState   NAICS ApprovalDate  \\\n",
       "0       47711                FIFTH THIRD BANK        OH  451120    28-Feb-97   \n",
       "1       46526                 1ST SOURCE BANK        IN  722410    28-Feb-97   \n",
       "2       47401         GRANT COUNTY STATE BANK        IN  621210    28-Feb-97   \n",
       "3       74012   1ST NATL BK & TR CO OF BROKEN        OK       0    28-Feb-97   \n",
       "4       32801         FLORIDA BUS. DEVEL CORP        FL       0    28-Feb-97   \n",
       "...       ...                             ...       ...     ...          ...   \n",
       "899159  43221  JPMORGAN CHASE BANK NATL ASSOC        IL  451120    27-Feb-97   \n",
       "899160  43221  JPMORGAN CHASE BANK NATL ASSOC        IL  451130    27-Feb-97   \n",
       "899161  93455  RABOBANK, NATIONAL ASSOCIATION        CA  332321    27-Feb-97   \n",
       "899162  96830                  BANK OF HAWAII        HI       0    27-Feb-97   \n",
       "899163  96734            CENTRAL PACIFIC BANK        HI       0    27-Feb-97   \n",
       "\n",
       "       ApprovalFY  ... RevLineCr LowDoc ChgOffDate DisbursementDate  \\\n",
       "0            1997  ...         N      Y                   28-Feb-99   \n",
       "1            1997  ...         N      Y                   31-May-97   \n",
       "2            1997  ...         N      N                   31-Dec-97   \n",
       "3            1997  ...         N      Y                   30-Jun-97   \n",
       "4            1997  ...         N      N                   14-May-97   \n",
       "...           ...  ...       ...    ...        ...              ...   \n",
       "899159       1997  ...         0      N                   30-Sep-97   \n",
       "899160       1997  ...         Y      N                   31-Oct-97   \n",
       "899161       1997  ...         N      N                   30-Sep-97   \n",
       "899162       1997  ...         N      Y   8-Mar-00        31-Mar-97   \n",
       "899163       1997  ...         N      N                   31-May-97   \n",
       "\n",
       "       DisbursementGross BalanceGross MIS_Status ChgOffPrinGr        GrAppv  \\\n",
       "0            $60,000.00        $0.00       P I F       $0.00    $60,000.00    \n",
       "1            $40,000.00        $0.00       P I F       $0.00    $40,000.00    \n",
       "2           $287,000.00        $0.00       P I F       $0.00   $287,000.00    \n",
       "3            $35,000.00        $0.00       P I F       $0.00    $35,000.00    \n",
       "4           $229,000.00        $0.00       P I F       $0.00   $229,000.00    \n",
       "...                  ...          ...        ...          ...           ...   \n",
       "899159       $70,000.00        $0.00       P I F       $0.00    $70,000.00    \n",
       "899160       $85,000.00        $0.00       P I F       $0.00    $85,000.00    \n",
       "899161      $300,000.00        $0.00       P I F       $0.00   $300,000.00    \n",
       "899162       $75,000.00        $0.00      CHGOFF  $46,383.00    $75,000.00    \n",
       "899163       $30,000.00        $0.00       P I F       $0.00    $30,000.00    \n",
       "\n",
       "            SBA_Appv  \n",
       "0        $48,000.00   \n",
       "1        $32,000.00   \n",
       "2       $215,250.00   \n",
       "3        $28,000.00   \n",
       "4       $229,000.00   \n",
       "...              ...  \n",
       "899159   $56,000.00   \n",
       "899160   $42,500.00   \n",
       "899161  $225,000.00   \n",
       "899162   $60,000.00   \n",
       "899163   $24,000.00   \n",
       "\n",
       "[899164 rows x 27 columns]"
      ]
     },
     "execution_count": 5,
     "metadata": {},
     "output_type": "execute_result"
    }
   ],
   "source": [
    "from sqlalchemy import create_engine\n",
    "# Create a reference to the file.\n",
    "database_path = Path(\"SBADATA.sqlite\")\n",
    "# Create Engine\n",
    "engine = create_engine(f\"sqlite:///{database_path}\")\n",
    "conn = engine.connect()\n",
    "# Query All Records in the the Database\n",
    "df1 = pd.read_sql(\"SELECT * FROM SBA\", conn)\n",
    "df1"
   ]
  },
  {
   "cell_type": "code",
   "execution_count": 6,
   "metadata": {},
   "outputs": [],
   "source": [
    "# loan_data = Path(\"SBAnational.csv\")\n",
    "\n",
    "# #Reading our data into pandas\n",
    "# df1 = pd.read_csv(loan_data)\n",
    "# df1.head()"
   ]
  },
  {
   "cell_type": "code",
   "execution_count": 7,
   "metadata": {},
   "outputs": [
    {
     "data": {
      "text/plain": [
       "LoanNr_ChkDgt        object\n",
       "Name                 object\n",
       "City                 object\n",
       "State                object\n",
       "Zip                  object\n",
       "Bank                 object\n",
       "BankState            object\n",
       "NAICS                object\n",
       "ApprovalDate         object\n",
       "ApprovalFY           object\n",
       "Term                 object\n",
       "NoEmp                object\n",
       "NewExist             object\n",
       "CreateJob            object\n",
       "RetainedJob          object\n",
       "FranchiseCode        object\n",
       "UrbanRural           object\n",
       "RevLineCr            object\n",
       "LowDoc               object\n",
       "ChgOffDate           object\n",
       "DisbursementDate     object\n",
       "DisbursementGross    object\n",
       "BalanceGross         object\n",
       "MIS_Status           object\n",
       "ChgOffPrinGr         object\n",
       "GrAppv               object\n",
       "SBA_Appv             object\n",
       "dtype: object"
      ]
     },
     "execution_count": 7,
     "metadata": {},
     "output_type": "execute_result"
    }
   ],
   "source": [
    "df1.dtypes"
   ]
  },
  {
   "cell_type": "code",
   "execution_count": 8,
   "metadata": {},
   "outputs": [],
   "source": [
    "#Removing the $ sign and comman to be able to convert the column into a string \n",
    "df1[['DisbursementGross', 'BalanceGross', 'ChgOffPrinGr', 'GrAppv', 'SBA_Appv']] = df1[['DisbursementGross', 'BalanceGross', 'ChgOffPrinGr', 'GrAppv', 'SBA_Appv']].applymap(lambda x: x.strip().replace('$', '').replace(',', ''))"
   ]
  },
  {
   "cell_type": "code",
   "execution_count": 9,
   "metadata": {},
   "outputs": [],
   "source": [
    "df1['NAICS'] = pd.to_numeric(df1['NAICS'], errors='coerce')"
   ]
  },
  {
   "cell_type": "code",
   "execution_count": 10,
   "metadata": {},
   "outputs": [
    {
     "name": "stderr",
     "output_type": "stream",
     "text": [
      "C:\\Users\\ljm47\\AppData\\Local\\Temp\\ipykernel_29896\\1902025118.py:1: FutureWarning: The pandas.np module is deprecated and will be removed from pandas in a future version. Import numpy directly instead.\n",
      "  df2 = df1.replace(0,pd.np.nan).dropna(axis = 0, how= 'any', subset=\"NAICS\").fillna(0)\n"
     ]
    }
   ],
   "source": [
    "df2 = df1.replace(0,pd.np.nan).dropna(axis = 0, how= 'any', subset=\"NAICS\").fillna(0)\n"
   ]
  },
  {
   "cell_type": "code",
   "execution_count": 11,
   "metadata": {},
   "outputs": [
    {
     "data": {
      "text/html": [
       "<div>\n",
       "<style scoped>\n",
       "    .dataframe tbody tr th:only-of-type {\n",
       "        vertical-align: middle;\n",
       "    }\n",
       "\n",
       "    .dataframe tbody tr th {\n",
       "        vertical-align: top;\n",
       "    }\n",
       "\n",
       "    .dataframe thead th {\n",
       "        text-align: right;\n",
       "    }\n",
       "</style>\n",
       "<table border=\"1\" class=\"dataframe\">\n",
       "  <thead>\n",
       "    <tr style=\"text-align: right;\">\n",
       "      <th></th>\n",
       "      <th>LoanNr_ChkDgt</th>\n",
       "      <th>Name</th>\n",
       "      <th>City</th>\n",
       "      <th>State</th>\n",
       "      <th>Zip</th>\n",
       "      <th>Bank</th>\n",
       "      <th>BankState</th>\n",
       "      <th>NAICS</th>\n",
       "      <th>ApprovalDate</th>\n",
       "      <th>ApprovalFY</th>\n",
       "      <th>...</th>\n",
       "      <th>RevLineCr</th>\n",
       "      <th>LowDoc</th>\n",
       "      <th>ChgOffDate</th>\n",
       "      <th>DisbursementDate</th>\n",
       "      <th>DisbursementGross</th>\n",
       "      <th>BalanceGross</th>\n",
       "      <th>MIS_Status</th>\n",
       "      <th>ChgOffPrinGr</th>\n",
       "      <th>GrAppv</th>\n",
       "      <th>SBA_Appv</th>\n",
       "    </tr>\n",
       "  </thead>\n",
       "  <tbody>\n",
       "    <tr>\n",
       "      <th>0</th>\n",
       "      <td>1000014003</td>\n",
       "      <td>ABC HOBBYCRAFT</td>\n",
       "      <td>EVANSVILLE</td>\n",
       "      <td>IN</td>\n",
       "      <td>47711</td>\n",
       "      <td>FIFTH THIRD BANK</td>\n",
       "      <td>OH</td>\n",
       "      <td>451120.0</td>\n",
       "      <td>28-Feb-97</td>\n",
       "      <td>1997</td>\n",
       "      <td>...</td>\n",
       "      <td>N</td>\n",
       "      <td>Y</td>\n",
       "      <td></td>\n",
       "      <td>28-Feb-99</td>\n",
       "      <td>60000.00</td>\n",
       "      <td>0.00</td>\n",
       "      <td>P I F</td>\n",
       "      <td>0.00</td>\n",
       "      <td>60000.00</td>\n",
       "      <td>48000.00</td>\n",
       "    </tr>\n",
       "    <tr>\n",
       "      <th>1</th>\n",
       "      <td>1000024006</td>\n",
       "      <td>LANDMARK BAR &amp; GRILLE (THE)</td>\n",
       "      <td>NEW PARIS</td>\n",
       "      <td>IN</td>\n",
       "      <td>46526</td>\n",
       "      <td>1ST SOURCE BANK</td>\n",
       "      <td>IN</td>\n",
       "      <td>722410.0</td>\n",
       "      <td>28-Feb-97</td>\n",
       "      <td>1997</td>\n",
       "      <td>...</td>\n",
       "      <td>N</td>\n",
       "      <td>Y</td>\n",
       "      <td></td>\n",
       "      <td>31-May-97</td>\n",
       "      <td>40000.00</td>\n",
       "      <td>0.00</td>\n",
       "      <td>P I F</td>\n",
       "      <td>0.00</td>\n",
       "      <td>40000.00</td>\n",
       "      <td>32000.00</td>\n",
       "    </tr>\n",
       "    <tr>\n",
       "      <th>2</th>\n",
       "      <td>1000034009</td>\n",
       "      <td>WHITLOCK DDS, TODD M.</td>\n",
       "      <td>BLOOMINGTON</td>\n",
       "      <td>IN</td>\n",
       "      <td>47401</td>\n",
       "      <td>GRANT COUNTY STATE BANK</td>\n",
       "      <td>IN</td>\n",
       "      <td>621210.0</td>\n",
       "      <td>28-Feb-97</td>\n",
       "      <td>1997</td>\n",
       "      <td>...</td>\n",
       "      <td>N</td>\n",
       "      <td>N</td>\n",
       "      <td></td>\n",
       "      <td>31-Dec-97</td>\n",
       "      <td>287000.00</td>\n",
       "      <td>0.00</td>\n",
       "      <td>P I F</td>\n",
       "      <td>0.00</td>\n",
       "      <td>287000.00</td>\n",
       "      <td>215250.00</td>\n",
       "    </tr>\n",
       "    <tr>\n",
       "      <th>5</th>\n",
       "      <td>1000084002</td>\n",
       "      <td>B&amp;T SCREW MACHINE COMPANY, INC</td>\n",
       "      <td>PLAINVILLE</td>\n",
       "      <td>CT</td>\n",
       "      <td>6062</td>\n",
       "      <td>TD BANK, NATIONAL ASSOCIATION</td>\n",
       "      <td>DE</td>\n",
       "      <td>332721.0</td>\n",
       "      <td>28-Feb-97</td>\n",
       "      <td>1997</td>\n",
       "      <td>...</td>\n",
       "      <td>N</td>\n",
       "      <td>N</td>\n",
       "      <td></td>\n",
       "      <td>30-Jun-97</td>\n",
       "      <td>517000.00</td>\n",
       "      <td>0.00</td>\n",
       "      <td>P I F</td>\n",
       "      <td>0.00</td>\n",
       "      <td>517000.00</td>\n",
       "      <td>387750.00</td>\n",
       "    </tr>\n",
       "    <tr>\n",
       "      <th>7</th>\n",
       "      <td>1000094005</td>\n",
       "      <td>WEAVER PRODUCTS</td>\n",
       "      <td>SUMMERFIELD</td>\n",
       "      <td>FL</td>\n",
       "      <td>34491</td>\n",
       "      <td>REGIONS BANK</td>\n",
       "      <td>AL</td>\n",
       "      <td>811118.0</td>\n",
       "      <td>28-Feb-97</td>\n",
       "      <td>1997</td>\n",
       "      <td>...</td>\n",
       "      <td>N</td>\n",
       "      <td>Y</td>\n",
       "      <td></td>\n",
       "      <td>30-Jun-98</td>\n",
       "      <td>45000.00</td>\n",
       "      <td>0.00</td>\n",
       "      <td>P I F</td>\n",
       "      <td>0.00</td>\n",
       "      <td>45000.00</td>\n",
       "      <td>36000.00</td>\n",
       "    </tr>\n",
       "  </tbody>\n",
       "</table>\n",
       "<p>5 rows × 27 columns</p>\n",
       "</div>"
      ],
      "text/plain": [
       "  LoanNr_ChkDgt                            Name         City State    Zip  \\\n",
       "0    1000014003                  ABC HOBBYCRAFT   EVANSVILLE    IN  47711   \n",
       "1    1000024006     LANDMARK BAR & GRILLE (THE)    NEW PARIS    IN  46526   \n",
       "2    1000034009           WHITLOCK DDS, TODD M.  BLOOMINGTON    IN  47401   \n",
       "5    1000084002  B&T SCREW MACHINE COMPANY, INC   PLAINVILLE    CT   6062   \n",
       "7    1000094005                 WEAVER PRODUCTS  SUMMERFIELD    FL  34491   \n",
       "\n",
       "                            Bank BankState     NAICS ApprovalDate ApprovalFY  \\\n",
       "0               FIFTH THIRD BANK        OH  451120.0    28-Feb-97       1997   \n",
       "1                1ST SOURCE BANK        IN  722410.0    28-Feb-97       1997   \n",
       "2        GRANT COUNTY STATE BANK        IN  621210.0    28-Feb-97       1997   \n",
       "5  TD BANK, NATIONAL ASSOCIATION        DE  332721.0    28-Feb-97       1997   \n",
       "7                   REGIONS BANK        AL  811118.0    28-Feb-97       1997   \n",
       "\n",
       "   ... RevLineCr LowDoc ChgOffDate DisbursementDate DisbursementGross  \\\n",
       "0  ...         N      Y                   28-Feb-99          60000.00   \n",
       "1  ...         N      Y                   31-May-97          40000.00   \n",
       "2  ...         N      N                   31-Dec-97         287000.00   \n",
       "5  ...         N      N                   30-Jun-97         517000.00   \n",
       "7  ...         N      Y                   30-Jun-98          45000.00   \n",
       "\n",
       "  BalanceGross MIS_Status ChgOffPrinGr     GrAppv   SBA_Appv  \n",
       "0         0.00      P I F         0.00   60000.00   48000.00  \n",
       "1         0.00      P I F         0.00   40000.00   32000.00  \n",
       "2         0.00      P I F         0.00  287000.00  215250.00  \n",
       "5         0.00      P I F         0.00  517000.00  387750.00  \n",
       "7         0.00      P I F         0.00   45000.00   36000.00  \n",
       "\n",
       "[5 rows x 27 columns]"
      ]
     },
     "execution_count": 11,
     "metadata": {},
     "output_type": "execute_result"
    }
   ],
   "source": [
    "df2.head()"
   ]
  },
  {
   "cell_type": "code",
   "execution_count": 12,
   "metadata": {},
   "outputs": [
    {
     "data": {
      "text/html": [
       "<div>\n",
       "<style scoped>\n",
       "    .dataframe tbody tr th:only-of-type {\n",
       "        vertical-align: middle;\n",
       "    }\n",
       "\n",
       "    .dataframe tbody tr th {\n",
       "        vertical-align: top;\n",
       "    }\n",
       "\n",
       "    .dataframe thead th {\n",
       "        text-align: right;\n",
       "    }\n",
       "</style>\n",
       "<table border=\"1\" class=\"dataframe\">\n",
       "  <thead>\n",
       "    <tr style=\"text-align: right;\">\n",
       "      <th></th>\n",
       "      <th>LoanNr_ChkDgt</th>\n",
       "      <th>Name</th>\n",
       "      <th>City</th>\n",
       "      <th>State</th>\n",
       "      <th>Zip</th>\n",
       "      <th>Bank</th>\n",
       "      <th>BankState</th>\n",
       "      <th>NAICS</th>\n",
       "      <th>ApprovalDate</th>\n",
       "      <th>ApprovalFY</th>\n",
       "      <th>...</th>\n",
       "      <th>LowDoc</th>\n",
       "      <th>ChgOffDate</th>\n",
       "      <th>DisbursementDate</th>\n",
       "      <th>DisbursementGross</th>\n",
       "      <th>BalanceGross</th>\n",
       "      <th>MIS_Status</th>\n",
       "      <th>ChgOffPrinGr</th>\n",
       "      <th>GrAppv</th>\n",
       "      <th>SBA_Appv</th>\n",
       "      <th>Industry</th>\n",
       "    </tr>\n",
       "  </thead>\n",
       "  <tbody>\n",
       "    <tr>\n",
       "      <th>0</th>\n",
       "      <td>1000014003</td>\n",
       "      <td>ABC HOBBYCRAFT</td>\n",
       "      <td>EVANSVILLE</td>\n",
       "      <td>IN</td>\n",
       "      <td>47711</td>\n",
       "      <td>FIFTH THIRD BANK</td>\n",
       "      <td>OH</td>\n",
       "      <td>451120.0</td>\n",
       "      <td>28-Feb-97</td>\n",
       "      <td>1997</td>\n",
       "      <td>...</td>\n",
       "      <td>Y</td>\n",
       "      <td></td>\n",
       "      <td>28-Feb-99</td>\n",
       "      <td>60000.00</td>\n",
       "      <td>0.00</td>\n",
       "      <td>P I F</td>\n",
       "      <td>0.00</td>\n",
       "      <td>60000.00</td>\n",
       "      <td>48000.00</td>\n",
       "      <td>45</td>\n",
       "    </tr>\n",
       "    <tr>\n",
       "      <th>1</th>\n",
       "      <td>1000024006</td>\n",
       "      <td>LANDMARK BAR &amp; GRILLE (THE)</td>\n",
       "      <td>NEW PARIS</td>\n",
       "      <td>IN</td>\n",
       "      <td>46526</td>\n",
       "      <td>1ST SOURCE BANK</td>\n",
       "      <td>IN</td>\n",
       "      <td>722410.0</td>\n",
       "      <td>28-Feb-97</td>\n",
       "      <td>1997</td>\n",
       "      <td>...</td>\n",
       "      <td>Y</td>\n",
       "      <td></td>\n",
       "      <td>31-May-97</td>\n",
       "      <td>40000.00</td>\n",
       "      <td>0.00</td>\n",
       "      <td>P I F</td>\n",
       "      <td>0.00</td>\n",
       "      <td>40000.00</td>\n",
       "      <td>32000.00</td>\n",
       "      <td>72</td>\n",
       "    </tr>\n",
       "    <tr>\n",
       "      <th>2</th>\n",
       "      <td>1000034009</td>\n",
       "      <td>WHITLOCK DDS, TODD M.</td>\n",
       "      <td>BLOOMINGTON</td>\n",
       "      <td>IN</td>\n",
       "      <td>47401</td>\n",
       "      <td>GRANT COUNTY STATE BANK</td>\n",
       "      <td>IN</td>\n",
       "      <td>621210.0</td>\n",
       "      <td>28-Feb-97</td>\n",
       "      <td>1997</td>\n",
       "      <td>...</td>\n",
       "      <td>N</td>\n",
       "      <td></td>\n",
       "      <td>31-Dec-97</td>\n",
       "      <td>287000.00</td>\n",
       "      <td>0.00</td>\n",
       "      <td>P I F</td>\n",
       "      <td>0.00</td>\n",
       "      <td>287000.00</td>\n",
       "      <td>215250.00</td>\n",
       "      <td>62</td>\n",
       "    </tr>\n",
       "    <tr>\n",
       "      <th>5</th>\n",
       "      <td>1000084002</td>\n",
       "      <td>B&amp;T SCREW MACHINE COMPANY, INC</td>\n",
       "      <td>PLAINVILLE</td>\n",
       "      <td>CT</td>\n",
       "      <td>6062</td>\n",
       "      <td>TD BANK, NATIONAL ASSOCIATION</td>\n",
       "      <td>DE</td>\n",
       "      <td>332721.0</td>\n",
       "      <td>28-Feb-97</td>\n",
       "      <td>1997</td>\n",
       "      <td>...</td>\n",
       "      <td>N</td>\n",
       "      <td></td>\n",
       "      <td>30-Jun-97</td>\n",
       "      <td>517000.00</td>\n",
       "      <td>0.00</td>\n",
       "      <td>P I F</td>\n",
       "      <td>0.00</td>\n",
       "      <td>517000.00</td>\n",
       "      <td>387750.00</td>\n",
       "      <td>33</td>\n",
       "    </tr>\n",
       "    <tr>\n",
       "      <th>7</th>\n",
       "      <td>1000094005</td>\n",
       "      <td>WEAVER PRODUCTS</td>\n",
       "      <td>SUMMERFIELD</td>\n",
       "      <td>FL</td>\n",
       "      <td>34491</td>\n",
       "      <td>REGIONS BANK</td>\n",
       "      <td>AL</td>\n",
       "      <td>811118.0</td>\n",
       "      <td>28-Feb-97</td>\n",
       "      <td>1997</td>\n",
       "      <td>...</td>\n",
       "      <td>Y</td>\n",
       "      <td></td>\n",
       "      <td>30-Jun-98</td>\n",
       "      <td>45000.00</td>\n",
       "      <td>0.00</td>\n",
       "      <td>P I F</td>\n",
       "      <td>0.00</td>\n",
       "      <td>45000.00</td>\n",
       "      <td>36000.00</td>\n",
       "      <td>81</td>\n",
       "    </tr>\n",
       "  </tbody>\n",
       "</table>\n",
       "<p>5 rows × 28 columns</p>\n",
       "</div>"
      ],
      "text/plain": [
       "  LoanNr_ChkDgt                            Name         City State    Zip  \\\n",
       "0    1000014003                  ABC HOBBYCRAFT   EVANSVILLE    IN  47711   \n",
       "1    1000024006     LANDMARK BAR & GRILLE (THE)    NEW PARIS    IN  46526   \n",
       "2    1000034009           WHITLOCK DDS, TODD M.  BLOOMINGTON    IN  47401   \n",
       "5    1000084002  B&T SCREW MACHINE COMPANY, INC   PLAINVILLE    CT   6062   \n",
       "7    1000094005                 WEAVER PRODUCTS  SUMMERFIELD    FL  34491   \n",
       "\n",
       "                            Bank BankState     NAICS ApprovalDate ApprovalFY  \\\n",
       "0               FIFTH THIRD BANK        OH  451120.0    28-Feb-97       1997   \n",
       "1                1ST SOURCE BANK        IN  722410.0    28-Feb-97       1997   \n",
       "2        GRANT COUNTY STATE BANK        IN  621210.0    28-Feb-97       1997   \n",
       "5  TD BANK, NATIONAL ASSOCIATION        DE  332721.0    28-Feb-97       1997   \n",
       "7                   REGIONS BANK        AL  811118.0    28-Feb-97       1997   \n",
       "\n",
       "   ... LowDoc ChgOffDate DisbursementDate DisbursementGross BalanceGross  \\\n",
       "0  ...      Y                   28-Feb-99          60000.00         0.00   \n",
       "1  ...      Y                   31-May-97          40000.00         0.00   \n",
       "2  ...      N                   31-Dec-97         287000.00         0.00   \n",
       "5  ...      N                   30-Jun-97         517000.00         0.00   \n",
       "7  ...      Y                   30-Jun-98          45000.00         0.00   \n",
       "\n",
       "  MIS_Status ChgOffPrinGr     GrAppv   SBA_Appv Industry  \n",
       "0      P I F         0.00   60000.00   48000.00       45  \n",
       "1      P I F         0.00   40000.00   32000.00       72  \n",
       "2      P I F         0.00  287000.00  215250.00       62  \n",
       "5      P I F         0.00  517000.00  387750.00       33  \n",
       "7      P I F         0.00   45000.00   36000.00       81  \n",
       "\n",
       "[5 rows x 28 columns]"
      ]
     },
     "execution_count": 12,
     "metadata": {},
     "output_type": "execute_result"
    }
   ],
   "source": [
    "df2[\"Industry\"] = df2['NAICS'].astype('str').str[:2]\n",
    "df2.head()"
   ]
  },
  {
   "cell_type": "code",
   "execution_count": 13,
   "metadata": {},
   "outputs": [
    {
     "data": {
      "text/html": [
       "<div>\n",
       "<style scoped>\n",
       "    .dataframe tbody tr th:only-of-type {\n",
       "        vertical-align: middle;\n",
       "    }\n",
       "\n",
       "    .dataframe tbody tr th {\n",
       "        vertical-align: top;\n",
       "    }\n",
       "\n",
       "    .dataframe thead th {\n",
       "        text-align: right;\n",
       "    }\n",
       "</style>\n",
       "<table border=\"1\" class=\"dataframe\">\n",
       "  <thead>\n",
       "    <tr style=\"text-align: right;\">\n",
       "      <th></th>\n",
       "      <th>LoanNr_ChkDgt</th>\n",
       "      <th>Name</th>\n",
       "      <th>City</th>\n",
       "      <th>State</th>\n",
       "      <th>Zip</th>\n",
       "      <th>Bank</th>\n",
       "      <th>BankState</th>\n",
       "      <th>ApprovalDate</th>\n",
       "      <th>ApprovalFY</th>\n",
       "      <th>Term</th>\n",
       "      <th>...</th>\n",
       "      <th>LowDoc</th>\n",
       "      <th>ChgOffDate</th>\n",
       "      <th>DisbursementDate</th>\n",
       "      <th>DisbursementGross</th>\n",
       "      <th>BalanceGross</th>\n",
       "      <th>MIS_Status</th>\n",
       "      <th>ChgOffPrinGr</th>\n",
       "      <th>GrAppv</th>\n",
       "      <th>SBA_Appv</th>\n",
       "      <th>Industry</th>\n",
       "    </tr>\n",
       "  </thead>\n",
       "  <tbody>\n",
       "    <tr>\n",
       "      <th>0</th>\n",
       "      <td>1000014003</td>\n",
       "      <td>ABC HOBBYCRAFT</td>\n",
       "      <td>EVANSVILLE</td>\n",
       "      <td>IN</td>\n",
       "      <td>47711</td>\n",
       "      <td>FIFTH THIRD BANK</td>\n",
       "      <td>OH</td>\n",
       "      <td>28-Feb-97</td>\n",
       "      <td>1997</td>\n",
       "      <td>84</td>\n",
       "      <td>...</td>\n",
       "      <td>Y</td>\n",
       "      <td></td>\n",
       "      <td>28-Feb-99</td>\n",
       "      <td>60000.00</td>\n",
       "      <td>0.00</td>\n",
       "      <td>P I F</td>\n",
       "      <td>0.00</td>\n",
       "      <td>60000.00</td>\n",
       "      <td>48000.00</td>\n",
       "      <td>45</td>\n",
       "    </tr>\n",
       "  </tbody>\n",
       "</table>\n",
       "<p>1 rows × 27 columns</p>\n",
       "</div>"
      ],
      "text/plain": [
       "  LoanNr_ChkDgt            Name        City State    Zip              Bank  \\\n",
       "0    1000014003  ABC HOBBYCRAFT  EVANSVILLE    IN  47711  FIFTH THIRD BANK   \n",
       "\n",
       "  BankState ApprovalDate ApprovalFY Term  ... LowDoc ChgOffDate  \\\n",
       "0        OH    28-Feb-97       1997   84  ...      Y              \n",
       "\n",
       "  DisbursementDate DisbursementGross BalanceGross MIS_Status ChgOffPrinGr  \\\n",
       "0        28-Feb-99          60000.00         0.00      P I F         0.00   \n",
       "\n",
       "     GrAppv  SBA_Appv Industry  \n",
       "0  60000.00  48000.00       45  \n",
       "\n",
       "[1 rows x 27 columns]"
      ]
     },
     "execution_count": 13,
     "metadata": {},
     "output_type": "execute_result"
    }
   ],
   "source": [
    "df3 =df2.drop(\"NAICS\", axis='columns')\n",
    "df3.head(1)"
   ]
  },
  {
   "cell_type": "code",
   "execution_count": 14,
   "metadata": {},
   "outputs": [
    {
     "data": {
      "text/plain": [
       "44    84737\n",
       "81    72618\n",
       "54    68170\n",
       "72    67600\n",
       "23    66646\n",
       "62    55366\n",
       "42    48743\n",
       "45    42514\n",
       "33    38284\n",
       "56    32685\n",
       "48    20310\n",
       "32    17936\n",
       "71    14640\n",
       "53    13632\n",
       "31    11809\n",
       "51    11379\n",
       "52     9496\n",
       "11     9005\n",
       "61     6425\n",
       "49     2221\n",
       "21     1851\n",
       "22      663\n",
       "55      257\n",
       "92      229\n",
       "Name: Industry, dtype: int64"
      ]
     },
     "execution_count": 14,
     "metadata": {},
     "output_type": "execute_result"
    }
   ],
   "source": [
    "df3['Industry'].value_counts()"
   ]
  },
  {
   "cell_type": "code",
   "execution_count": 15,
   "metadata": {},
   "outputs": [
    {
     "data": {
      "text/html": [
       "<div>\n",
       "<style scoped>\n",
       "    .dataframe tbody tr th:only-of-type {\n",
       "        vertical-align: middle;\n",
       "    }\n",
       "\n",
       "    .dataframe tbody tr th {\n",
       "        vertical-align: top;\n",
       "    }\n",
       "\n",
       "    .dataframe thead th {\n",
       "        text-align: right;\n",
       "    }\n",
       "</style>\n",
       "<table border=\"1\" class=\"dataframe\">\n",
       "  <thead>\n",
       "    <tr style=\"text-align: right;\">\n",
       "      <th></th>\n",
       "      <th>LoanNr_ChkDgt</th>\n",
       "      <th>Name</th>\n",
       "      <th>City</th>\n",
       "      <th>State</th>\n",
       "      <th>Zip</th>\n",
       "      <th>Bank</th>\n",
       "      <th>BankState</th>\n",
       "      <th>NAICS</th>\n",
       "      <th>ApprovalDate</th>\n",
       "      <th>ApprovalFY</th>\n",
       "      <th>...</th>\n",
       "      <th>LowDoc</th>\n",
       "      <th>ChgOffDate</th>\n",
       "      <th>DisbursementDate</th>\n",
       "      <th>DisbursementGross</th>\n",
       "      <th>BalanceGross</th>\n",
       "      <th>MIS_Status</th>\n",
       "      <th>ChgOffPrinGr</th>\n",
       "      <th>GrAppv</th>\n",
       "      <th>SBA_Appv</th>\n",
       "      <th>Industry</th>\n",
       "    </tr>\n",
       "  </thead>\n",
       "  <tbody>\n",
       "    <tr>\n",
       "      <th>0</th>\n",
       "      <td>1000014003</td>\n",
       "      <td>ABC HOBBYCRAFT</td>\n",
       "      <td>EVANSVILLE</td>\n",
       "      <td>IN</td>\n",
       "      <td>47711</td>\n",
       "      <td>FIFTH THIRD BANK</td>\n",
       "      <td>OH</td>\n",
       "      <td>451120.0</td>\n",
       "      <td>28-Feb-97</td>\n",
       "      <td>1997</td>\n",
       "      <td>...</td>\n",
       "      <td>Y</td>\n",
       "      <td></td>\n",
       "      <td>28-Feb-99</td>\n",
       "      <td>60000.00</td>\n",
       "      <td>0.00</td>\n",
       "      <td>P I F</td>\n",
       "      <td>0.00</td>\n",
       "      <td>60000.00</td>\n",
       "      <td>48000.00</td>\n",
       "      <td>Retail_trade</td>\n",
       "    </tr>\n",
       "    <tr>\n",
       "      <th>1</th>\n",
       "      <td>1000024006</td>\n",
       "      <td>LANDMARK BAR &amp; GRILLE (THE)</td>\n",
       "      <td>NEW PARIS</td>\n",
       "      <td>IN</td>\n",
       "      <td>46526</td>\n",
       "      <td>1ST SOURCE BANK</td>\n",
       "      <td>IN</td>\n",
       "      <td>722410.0</td>\n",
       "      <td>28-Feb-97</td>\n",
       "      <td>1997</td>\n",
       "      <td>...</td>\n",
       "      <td>Y</td>\n",
       "      <td></td>\n",
       "      <td>31-May-97</td>\n",
       "      <td>40000.00</td>\n",
       "      <td>0.00</td>\n",
       "      <td>P I F</td>\n",
       "      <td>0.00</td>\n",
       "      <td>40000.00</td>\n",
       "      <td>32000.00</td>\n",
       "      <td>Accom/Food_serv</td>\n",
       "    </tr>\n",
       "    <tr>\n",
       "      <th>2</th>\n",
       "      <td>1000034009</td>\n",
       "      <td>WHITLOCK DDS, TODD M.</td>\n",
       "      <td>BLOOMINGTON</td>\n",
       "      <td>IN</td>\n",
       "      <td>47401</td>\n",
       "      <td>GRANT COUNTY STATE BANK</td>\n",
       "      <td>IN</td>\n",
       "      <td>621210.0</td>\n",
       "      <td>28-Feb-97</td>\n",
       "      <td>1997</td>\n",
       "      <td>...</td>\n",
       "      <td>N</td>\n",
       "      <td></td>\n",
       "      <td>31-Dec-97</td>\n",
       "      <td>287000.00</td>\n",
       "      <td>0.00</td>\n",
       "      <td>P I F</td>\n",
       "      <td>0.00</td>\n",
       "      <td>287000.00</td>\n",
       "      <td>215250.00</td>\n",
       "      <td>Healthcare/Social_assist</td>\n",
       "    </tr>\n",
       "  </tbody>\n",
       "</table>\n",
       "<p>3 rows × 28 columns</p>\n",
       "</div>"
      ],
      "text/plain": [
       "  LoanNr_ChkDgt                         Name         City State    Zip  \\\n",
       "0    1000014003               ABC HOBBYCRAFT   EVANSVILLE    IN  47711   \n",
       "1    1000024006  LANDMARK BAR & GRILLE (THE)    NEW PARIS    IN  46526   \n",
       "2    1000034009        WHITLOCK DDS, TODD M.  BLOOMINGTON    IN  47401   \n",
       "\n",
       "                      Bank BankState     NAICS ApprovalDate ApprovalFY  ...  \\\n",
       "0         FIFTH THIRD BANK        OH  451120.0    28-Feb-97       1997  ...   \n",
       "1          1ST SOURCE BANK        IN  722410.0    28-Feb-97       1997  ...   \n",
       "2  GRANT COUNTY STATE BANK        IN  621210.0    28-Feb-97       1997  ...   \n",
       "\n",
       "  LowDoc ChgOffDate DisbursementDate DisbursementGross BalanceGross  \\\n",
       "0      Y                   28-Feb-99          60000.00         0.00   \n",
       "1      Y                   31-May-97          40000.00         0.00   \n",
       "2      N                   31-Dec-97         287000.00         0.00   \n",
       "\n",
       "  MIS_Status ChgOffPrinGr     GrAppv   SBA_Appv                  Industry  \n",
       "0      P I F         0.00   60000.00   48000.00              Retail_trade  \n",
       "1      P I F         0.00   40000.00   32000.00           Accom/Food_serv  \n",
       "2      P I F         0.00  287000.00  215250.00  Healthcare/Social_assist  \n",
       "\n",
       "[3 rows x 28 columns]"
      ]
     },
     "execution_count": 15,
     "metadata": {},
     "output_type": "execute_result"
    }
   ],
   "source": [
    "df4 = df2.copy()\n",
    "\n",
    "industry_dict = {\n",
    "    '11': 'Ag/Forest/Fish/Hunt',\n",
    "    '21': 'Mining/Quar/Oil_Gas_ext',\n",
    "    '22': 'Utilities',\n",
    "    '23': 'Construction',\n",
    "    '31': 'Manufacturing',\n",
    "    '32': 'Manufacturing',\n",
    "    '33': 'Manufacturing',\n",
    "    '42': 'Wholesale_trade',\n",
    "    '44': 'Retail_trade',\n",
    "    '45': 'Retail_trade',\n",
    "    '48': 'Trans/Ware',\n",
    "    '49': 'Trans/Ware',\n",
    "    '51': 'Information',\n",
    "    '52': 'Finance/Insurance',\n",
    "    '53': 'RE/Rental/Lease',\n",
    "    '54': 'Prof/Science/Tech',\n",
    "    '55': 'Mgmt_comp',\n",
    "    '56': 'Admin_sup/Waste_Mgmt_Rem',\n",
    "    '61': 'Educational',\n",
    "    '62': 'Healthcare/Social_assist',\n",
    "    '71': 'Arts/Entertain/Rec',\n",
    "    '72': 'Accom/Food_serv',\n",
    "    '81': 'Other_no_pub',\n",
    "    '92': 'Public_Admin'\n",
    "}\n",
    "\n",
    "df4['Industry'] = df4['Industry'].map(industry_dict)\n",
    "df4.head(3)"
   ]
  },
  {
   "cell_type": "code",
   "execution_count": 16,
   "metadata": {},
   "outputs": [
    {
     "data": {
      "text/plain": [
       "Retail_trade                127251\n",
       "Other_no_pub                 72618\n",
       "Prof/Science/Tech            68170\n",
       "Manufacturing                68029\n",
       "Accom/Food_serv              67600\n",
       "Construction                 66646\n",
       "Healthcare/Social_assist     55366\n",
       "Wholesale_trade              48743\n",
       "Admin_sup/Waste_Mgmt_Rem     32685\n",
       "Trans/Ware                   22531\n",
       "Arts/Entertain/Rec           14640\n",
       "RE/Rental/Lease              13632\n",
       "Information                  11379\n",
       "Finance/Insurance             9496\n",
       "Ag/Forest/Fish/Hunt           9005\n",
       "Educational                   6425\n",
       "Mining/Quar/Oil_Gas_ext       1851\n",
       "Utilities                      663\n",
       "Mgmt_comp                      257\n",
       "Public_Admin                   229\n",
       "Name: Industry, dtype: int64"
      ]
     },
     "execution_count": 16,
     "metadata": {},
     "output_type": "execute_result"
    }
   ],
   "source": [
    "df4['Industry'].value_counts()"
   ]
  },
  {
   "cell_type": "code",
   "execution_count": 17,
   "metadata": {},
   "outputs": [
    {
     "data": {
      "text/plain": [
       "LoanNr_ChkDgt         object\n",
       "Name                  object\n",
       "City                  object\n",
       "State                 object\n",
       "Zip                   object\n",
       "Bank                  object\n",
       "BankState             object\n",
       "NAICS                float64\n",
       "ApprovalDate          object\n",
       "ApprovalFY            object\n",
       "Term                  object\n",
       "NoEmp                 object\n",
       "NewExist              object\n",
       "CreateJob             object\n",
       "RetainedJob           object\n",
       "FranchiseCode         object\n",
       "UrbanRural            object\n",
       "RevLineCr             object\n",
       "LowDoc                object\n",
       "ChgOffDate            object\n",
       "DisbursementDate      object\n",
       "DisbursementGross     object\n",
       "BalanceGross          object\n",
       "MIS_Status            object\n",
       "ChgOffPrinGr          object\n",
       "GrAppv                object\n",
       "SBA_Appv              object\n",
       "Industry              object\n",
       "dtype: object"
      ]
     },
     "execution_count": 17,
     "metadata": {},
     "output_type": "execute_result"
    }
   ],
   "source": [
    "df4.dtypes"
   ]
  },
  {
   "cell_type": "code",
   "execution_count": 18,
   "metadata": {},
   "outputs": [],
   "source": [
    "df4['Zip'] = pd.to_numeric(df4['Zip'], errors='coerce')\n",
    "df4['Term'] = pd.to_numeric(df4['Term'], errors='coerce')\n",
    "df4['NoEmp'] = pd.to_numeric(df4['NoEmp'], errors='coerce')\n",
    "df4['NewExist'] = pd.to_numeric(df4['NewExist'], errors='coerce')\n",
    "df4['CreateJob'] = pd.to_numeric(df4['CreateJob'], errors='coerce')\n",
    "df4['RetainedJob'] = pd.to_numeric(df4['RetainedJob'], errors='coerce')\n",
    "df4['FranchiseCode'] = pd.to_numeric(df4['FranchiseCode'], errors='coerce')\n",
    "df4['UrbanRural'] = pd.to_numeric(df4['UrbanRural'], errors='coerce')\n",
    "\n",
    "\n",
    "df4['SBA_Appv'] = pd.to_numeric(df4['SBA_Appv'], errors='coerce')\n",
    "df4['GrAppv'] = pd.to_numeric(df4['GrAppv'], errors='coerce')\n",
    "df4['ChgOffPrinGr'] = pd.to_numeric(df4['ChgOffPrinGr'], errors='coerce')\n",
    "df4['BalanceGross'] = pd.to_numeric(df4['BalanceGross'], errors='coerce')\n",
    "df4['DisbursementGross'] = pd.to_numeric(df4['DisbursementGross'], errors='coerce')\n",
    "\n"
   ]
  },
  {
   "cell_type": "code",
   "execution_count": 19,
   "metadata": {},
   "outputs": [
    {
     "data": {
      "text/plain": [
       "0"
      ]
     },
     "execution_count": 19,
     "metadata": {},
     "output_type": "execute_result"
    }
   ],
   "source": [
    "df4[\"Bank\"].isnull().sum()"
   ]
  },
  {
   "cell_type": "code",
   "execution_count": 20,
   "metadata": {},
   "outputs": [
    {
     "data": {
      "text/plain": [
       "LoanNr_ChkDgt         object\n",
       "Name                  object\n",
       "City                  object\n",
       "State                 object\n",
       "Zip                    int64\n",
       "Bank                  object\n",
       "BankState             object\n",
       "NAICS                float64\n",
       "ApprovalDate          object\n",
       "ApprovalFY            object\n",
       "Term                   int64\n",
       "NoEmp                  int64\n",
       "NewExist             float64\n",
       "CreateJob              int64\n",
       "RetainedJob            int64\n",
       "FranchiseCode          int64\n",
       "UrbanRural             int64\n",
       "RevLineCr             object\n",
       "LowDoc                object\n",
       "ChgOffDate            object\n",
       "DisbursementDate      object\n",
       "DisbursementGross    float64\n",
       "BalanceGross         float64\n",
       "MIS_Status            object\n",
       "ChgOffPrinGr         float64\n",
       "GrAppv               float64\n",
       "SBA_Appv             float64\n",
       "Industry              object\n",
       "dtype: object"
      ]
     },
     "execution_count": 20,
     "metadata": {},
     "output_type": "execute_result"
    }
   ],
   "source": [
    "df4.dtypes"
   ]
  },
  {
   "cell_type": "code",
   "execution_count": 21,
   "metadata": {},
   "outputs": [],
   "source": [
    "df5 = df4.dropna(subset=\"MIS_Status\")\n"
   ]
  },
  {
   "cell_type": "code",
   "execution_count": 22,
   "metadata": {},
   "outputs": [
    {
     "data": {
      "text/html": [
       "<div>\n",
       "<style scoped>\n",
       "    .dataframe tbody tr th:only-of-type {\n",
       "        vertical-align: middle;\n",
       "    }\n",
       "\n",
       "    .dataframe tbody tr th {\n",
       "        vertical-align: top;\n",
       "    }\n",
       "\n",
       "    .dataframe thead th {\n",
       "        text-align: right;\n",
       "    }\n",
       "</style>\n",
       "<table border=\"1\" class=\"dataframe\">\n",
       "  <thead>\n",
       "    <tr style=\"text-align: right;\">\n",
       "      <th></th>\n",
       "      <th>LoanNr_ChkDgt</th>\n",
       "      <th>Name</th>\n",
       "      <th>City</th>\n",
       "      <th>State</th>\n",
       "      <th>Zip</th>\n",
       "      <th>Bank</th>\n",
       "      <th>BankState</th>\n",
       "      <th>NAICS</th>\n",
       "      <th>ApprovalDate</th>\n",
       "      <th>ApprovalFY</th>\n",
       "      <th>...</th>\n",
       "      <th>LowDoc</th>\n",
       "      <th>ChgOffDate</th>\n",
       "      <th>DisbursementDate</th>\n",
       "      <th>DisbursementGross</th>\n",
       "      <th>BalanceGross</th>\n",
       "      <th>MIS_Status</th>\n",
       "      <th>ChgOffPrinGr</th>\n",
       "      <th>GrAppv</th>\n",
       "      <th>SBA_Appv</th>\n",
       "      <th>Industry</th>\n",
       "    </tr>\n",
       "  </thead>\n",
       "  <tbody>\n",
       "    <tr>\n",
       "      <th>0</th>\n",
       "      <td>1000014003</td>\n",
       "      <td>ABC HOBBYCRAFT</td>\n",
       "      <td>EVANSVILLE</td>\n",
       "      <td>IN</td>\n",
       "      <td>47711</td>\n",
       "      <td>FIFTH THIRD BANK</td>\n",
       "      <td>OH</td>\n",
       "      <td>451120.0</td>\n",
       "      <td>28-Feb-97</td>\n",
       "      <td>1997</td>\n",
       "      <td>...</td>\n",
       "      <td>Y</td>\n",
       "      <td></td>\n",
       "      <td>28-Feb-99</td>\n",
       "      <td>60000.0</td>\n",
       "      <td>0.0</td>\n",
       "      <td>P I F</td>\n",
       "      <td>0.0</td>\n",
       "      <td>60000.0</td>\n",
       "      <td>48000.0</td>\n",
       "      <td>Retail_trade</td>\n",
       "    </tr>\n",
       "    <tr>\n",
       "      <th>1</th>\n",
       "      <td>1000024006</td>\n",
       "      <td>LANDMARK BAR &amp; GRILLE (THE)</td>\n",
       "      <td>NEW PARIS</td>\n",
       "      <td>IN</td>\n",
       "      <td>46526</td>\n",
       "      <td>1ST SOURCE BANK</td>\n",
       "      <td>IN</td>\n",
       "      <td>722410.0</td>\n",
       "      <td>28-Feb-97</td>\n",
       "      <td>1997</td>\n",
       "      <td>...</td>\n",
       "      <td>Y</td>\n",
       "      <td></td>\n",
       "      <td>31-May-97</td>\n",
       "      <td>40000.0</td>\n",
       "      <td>0.0</td>\n",
       "      <td>P I F</td>\n",
       "      <td>0.0</td>\n",
       "      <td>40000.0</td>\n",
       "      <td>32000.0</td>\n",
       "      <td>Accom/Food_serv</td>\n",
       "    </tr>\n",
       "    <tr>\n",
       "      <th>2</th>\n",
       "      <td>1000034009</td>\n",
       "      <td>WHITLOCK DDS, TODD M.</td>\n",
       "      <td>BLOOMINGTON</td>\n",
       "      <td>IN</td>\n",
       "      <td>47401</td>\n",
       "      <td>GRANT COUNTY STATE BANK</td>\n",
       "      <td>IN</td>\n",
       "      <td>621210.0</td>\n",
       "      <td>28-Feb-97</td>\n",
       "      <td>1997</td>\n",
       "      <td>...</td>\n",
       "      <td>N</td>\n",
       "      <td></td>\n",
       "      <td>31-Dec-97</td>\n",
       "      <td>287000.0</td>\n",
       "      <td>0.0</td>\n",
       "      <td>P I F</td>\n",
       "      <td>0.0</td>\n",
       "      <td>287000.0</td>\n",
       "      <td>215250.0</td>\n",
       "      <td>Healthcare/Social_assist</td>\n",
       "    </tr>\n",
       "    <tr>\n",
       "      <th>5</th>\n",
       "      <td>1000084002</td>\n",
       "      <td>B&amp;T SCREW MACHINE COMPANY, INC</td>\n",
       "      <td>PLAINVILLE</td>\n",
       "      <td>CT</td>\n",
       "      <td>6062</td>\n",
       "      <td>TD BANK, NATIONAL ASSOCIATION</td>\n",
       "      <td>DE</td>\n",
       "      <td>332721.0</td>\n",
       "      <td>28-Feb-97</td>\n",
       "      <td>1997</td>\n",
       "      <td>...</td>\n",
       "      <td>N</td>\n",
       "      <td></td>\n",
       "      <td>30-Jun-97</td>\n",
       "      <td>517000.0</td>\n",
       "      <td>0.0</td>\n",
       "      <td>P I F</td>\n",
       "      <td>0.0</td>\n",
       "      <td>517000.0</td>\n",
       "      <td>387750.0</td>\n",
       "      <td>Manufacturing</td>\n",
       "    </tr>\n",
       "    <tr>\n",
       "      <th>7</th>\n",
       "      <td>1000094005</td>\n",
       "      <td>WEAVER PRODUCTS</td>\n",
       "      <td>SUMMERFIELD</td>\n",
       "      <td>FL</td>\n",
       "      <td>34491</td>\n",
       "      <td>REGIONS BANK</td>\n",
       "      <td>AL</td>\n",
       "      <td>811118.0</td>\n",
       "      <td>28-Feb-97</td>\n",
       "      <td>1997</td>\n",
       "      <td>...</td>\n",
       "      <td>Y</td>\n",
       "      <td></td>\n",
       "      <td>30-Jun-98</td>\n",
       "      <td>45000.0</td>\n",
       "      <td>0.0</td>\n",
       "      <td>P I F</td>\n",
       "      <td>0.0</td>\n",
       "      <td>45000.0</td>\n",
       "      <td>36000.0</td>\n",
       "      <td>Other_no_pub</td>\n",
       "    </tr>\n",
       "  </tbody>\n",
       "</table>\n",
       "<p>5 rows × 28 columns</p>\n",
       "</div>"
      ],
      "text/plain": [
       "  LoanNr_ChkDgt                            Name         City State    Zip  \\\n",
       "0    1000014003                  ABC HOBBYCRAFT   EVANSVILLE    IN  47711   \n",
       "1    1000024006     LANDMARK BAR & GRILLE (THE)    NEW PARIS    IN  46526   \n",
       "2    1000034009           WHITLOCK DDS, TODD M.  BLOOMINGTON    IN  47401   \n",
       "5    1000084002  B&T SCREW MACHINE COMPANY, INC   PLAINVILLE    CT   6062   \n",
       "7    1000094005                 WEAVER PRODUCTS  SUMMERFIELD    FL  34491   \n",
       "\n",
       "                            Bank BankState     NAICS ApprovalDate ApprovalFY  \\\n",
       "0               FIFTH THIRD BANK        OH  451120.0    28-Feb-97       1997   \n",
       "1                1ST SOURCE BANK        IN  722410.0    28-Feb-97       1997   \n",
       "2        GRANT COUNTY STATE BANK        IN  621210.0    28-Feb-97       1997   \n",
       "5  TD BANK, NATIONAL ASSOCIATION        DE  332721.0    28-Feb-97       1997   \n",
       "7                   REGIONS BANK        AL  811118.0    28-Feb-97       1997   \n",
       "\n",
       "   ...  LowDoc  ChgOffDate  DisbursementDate  DisbursementGross  BalanceGross  \\\n",
       "0  ...       Y                     28-Feb-99            60000.0           0.0   \n",
       "1  ...       Y                     31-May-97            40000.0           0.0   \n",
       "2  ...       N                     31-Dec-97           287000.0           0.0   \n",
       "5  ...       N                     30-Jun-97           517000.0           0.0   \n",
       "7  ...       Y                     30-Jun-98            45000.0           0.0   \n",
       "\n",
       "   MIS_Status  ChgOffPrinGr    GrAppv  SBA_Appv                  Industry  \n",
       "0       P I F           0.0   60000.0   48000.0              Retail_trade  \n",
       "1       P I F           0.0   40000.0   32000.0           Accom/Food_serv  \n",
       "2       P I F           0.0  287000.0  215250.0  Healthcare/Social_assist  \n",
       "5       P I F           0.0  517000.0  387750.0             Manufacturing  \n",
       "7       P I F           0.0   45000.0   36000.0              Other_no_pub  \n",
       "\n",
       "[5 rows x 28 columns]"
      ]
     },
     "execution_count": 22,
     "metadata": {},
     "output_type": "execute_result"
    }
   ],
   "source": [
    "df5.head()"
   ]
  },
  {
   "cell_type": "code",
   "execution_count": 23,
   "metadata": {},
   "outputs": [],
   "source": [
    "# df5.to_csv(\"dataset_clean_1.csv\",\n",
    "#                   encoding=\"utf-8\", index=False, header=True)"
   ]
  },
  {
   "cell_type": "code",
   "execution_count": 24,
   "metadata": {},
   "outputs": [
    {
     "data": {
      "text/plain": [
       "P I F     554741\n",
       "CHGOFF    140759\n",
       "            1716\n",
       "Name: MIS_Status, dtype: int64"
      ]
     },
     "execution_count": 24,
     "metadata": {},
     "output_type": "execute_result"
    }
   ],
   "source": [
    "df5['MIS_Status'].value_counts()"
   ]
  },
  {
   "cell_type": "code",
   "execution_count": 25,
   "metadata": {},
   "outputs": [
    {
     "data": {
      "text/plain": [
       "P I F     554741\n",
       "CHGOFF    140759\n",
       "Name: MIS_Status, dtype: int64"
      ]
     },
     "execution_count": 25,
     "metadata": {},
     "output_type": "execute_result"
    }
   ],
   "source": [
    "mask = df5[\"MIS_Status\"] == \"\"\n",
    "df6 = df5[~mask]\n",
    "df6['MIS_Status'].value_counts()"
   ]
  },
  {
   "cell_type": "code",
   "execution_count": 26,
   "metadata": {},
   "outputs": [],
   "source": [
    "df7 = df6.copy()\n",
    "status = {\n",
    "    \"P I F\" : \"0\",\n",
    "    \"CHGOFF\" : \"1\"\n",
    "}\n",
    "df7['MIS_Status'] = df7['MIS_Status'].map(status)"
   ]
  },
  {
   "cell_type": "code",
   "execution_count": 27,
   "metadata": {},
   "outputs": [
    {
     "data": {
      "text/plain": [
       "0    554741\n",
       "1    140759\n",
       "Name: MIS_Status, dtype: int64"
      ]
     },
     "execution_count": 27,
     "metadata": {},
     "output_type": "execute_result"
    }
   ],
   "source": [
    "df7['MIS_Status'].value_counts()"
   ]
  },
  {
   "cell_type": "code",
   "execution_count": 28,
   "metadata": {},
   "outputs": [],
   "source": [
    "df7['MIS_Status'] = pd.to_numeric(df7['MIS_Status'], errors='coerce')"
   ]
  },
  {
   "cell_type": "code",
   "execution_count": 29,
   "metadata": {},
   "outputs": [
    {
     "data": {
      "text/plain": [
       "0    554741\n",
       "1    140759\n",
       "Name: MIS_Status, dtype: int64"
      ]
     },
     "execution_count": 29,
     "metadata": {},
     "output_type": "execute_result"
    }
   ],
   "source": [
    "df7['MIS_Status'].value_counts()"
   ]
  },
  {
   "cell_type": "code",
   "execution_count": 30,
   "metadata": {},
   "outputs": [
    {
     "data": {
      "text/plain": [
       "<bound method IndexOpsMixin.nunique of 0         47711\n",
       "1         46526\n",
       "2         47401\n",
       "5          6062\n",
       "7         34491\n",
       "          ...  \n",
       "899156    21224\n",
       "899157    92020\n",
       "899159    43221\n",
       "899160    43221\n",
       "899161    93455\n",
       "Name: Zip, Length: 695500, dtype: int64>"
      ]
     },
     "execution_count": 30,
     "metadata": {},
     "output_type": "execute_result"
    }
   ],
   "source": [
    "df7['Zip'].nunique"
   ]
  },
  {
   "cell_type": "code",
   "execution_count": 31,
   "metadata": {},
   "outputs": [
    {
     "name": "stdout",
     "output_type": "stream",
     "text": [
      "(695500, 28)\n",
      "(695260, 28)\n"
     ]
    }
   ],
   "source": [
    "print(df7.shape)\n",
    "df7['Zip'] = pd.to_numeric(df4['Zip'], errors='coerce')\n",
    "df8 = df7.loc[df7['Zip'] > 1000]\n",
    "print(df8.shape)"
   ]
  },
  {
   "cell_type": "code",
   "execution_count": 32,
   "metadata": {},
   "outputs": [],
   "source": [
    "# df99 = df8.dropna(subset=\"MIS_Status\")"
   ]
  },
  {
   "cell_type": "code",
   "execution_count": 33,
   "metadata": {},
   "outputs": [
    {
     "data": {
      "text/plain": [
       "(695252, 28)"
      ]
     },
     "execution_count": 33,
     "metadata": {},
     "output_type": "execute_result"
    }
   ],
   "source": [
    "mask = df8[\"State\"] == \"\"\n",
    "df9 = df8[~mask]\n",
    "df9.shape"
   ]
  },
  {
   "cell_type": "code",
   "execution_count": 34,
   "metadata": {},
   "outputs": [
    {
     "data": {
      "text/plain": [
       "(695248, 28)"
      ]
     },
     "execution_count": 34,
     "metadata": {},
     "output_type": "execute_result"
    }
   ],
   "source": [
    "mask = df9[\"City\"] == \"`\"\n",
    "df10 = df9[~mask]\n",
    "df10.shape"
   ]
  },
  {
   "cell_type": "code",
   "execution_count": 35,
   "metadata": {},
   "outputs": [
    {
     "data": {
      "text/plain": [
       "(695247, 28)"
      ]
     },
     "execution_count": 35,
     "metadata": {},
     "output_type": "execute_result"
    }
   ],
   "source": [
    "mask = df10[\"Name\"] == \"\"\n",
    "df11 = df10[~mask]\n",
    "df11.shape\n"
   ]
  },
  {
   "cell_type": "code",
   "execution_count": 36,
   "metadata": {},
   "outputs": [
    {
     "data": {
      "text/plain": [
       "(694625, 28)"
      ]
     },
     "execution_count": 36,
     "metadata": {},
     "output_type": "execute_result"
    }
   ],
   "source": [
    "mask = df11[\"Bank\"] == \"\"\n",
    "df12 = df11[~mask]\n",
    "df12.shape"
   ]
  },
  {
   "cell_type": "code",
   "execution_count": 37,
   "metadata": {},
   "outputs": [
    {
     "data": {
      "text/plain": [
       "(694622, 28)"
      ]
     },
     "execution_count": 37,
     "metadata": {},
     "output_type": "execute_result"
    }
   ],
   "source": [
    "mask = df12[\"BankState\"] == \"\"\n",
    "df13 = df12[~mask]\n",
    "df13.shape"
   ]
  },
  {
   "cell_type": "code",
   "execution_count": 38,
   "metadata": {},
   "outputs": [
    {
     "name": "stderr",
     "output_type": "stream",
     "text": [
      "C:\\Users\\ljm47\\AppData\\Local\\Temp\\ipykernel_29896\\3999961092.py:3: SettingWithCopyWarning: \n",
      "A value is trying to be set on a copy of a slice from a DataFrame.\n",
      "Try using .loc[row_indexer,col_indexer] = value instead\n",
      "\n",
      "See the caveats in the documentation: https://pandas.pydata.org/pandas-docs/stable/user_guide/indexing.html#returning-a-view-versus-a-copy\n",
      "  df13['Term'] = pd.to_numeric(df13['Term'], errors='coerce')\n"
     ]
    },
    {
     "name": "stdout",
     "output_type": "stream",
     "text": [
      "(662444, 28)\n"
     ]
    }
   ],
   "source": [
    "#Selecting only term greater than 12 months for a loan \n",
    "\n",
    "df13['Term'] = pd.to_numeric(df13['Term'], errors='coerce')\n",
    "df14 = df13.loc[df13['Term'] > 12]\n",
    "print(df14.shape)"
   ]
  },
  {
   "cell_type": "code",
   "execution_count": 39,
   "metadata": {},
   "outputs": [
    {
     "data": {
      "text/plain": [
       "(662444, 28)"
      ]
     },
     "execution_count": 39,
     "metadata": {},
     "output_type": "execute_result"
    }
   ],
   "source": [
    "df14.shape"
   ]
  },
  {
   "cell_type": "code",
   "execution_count": 40,
   "metadata": {},
   "outputs": [
    {
     "data": {
      "text/plain": [
       "(661772, 28)"
      ]
     },
     "execution_count": 40,
     "metadata": {},
     "output_type": "execute_result"
    }
   ],
   "source": [
    "mask = df14[\"NewExist\"] == 0\n",
    "df15 = df14[~mask]\n",
    "df15.shape"
   ]
  },
  {
   "cell_type": "code",
   "execution_count": 41,
   "metadata": {},
   "outputs": [
    {
     "data": {
      "text/plain": [
       "(661643, 28)"
      ]
     },
     "execution_count": 41,
     "metadata": {},
     "output_type": "execute_result"
    }
   ],
   "source": [
    "df15 = df15.dropna(subset=\"NewExist\")\n",
    "df15.shape"
   ]
  },
  {
   "cell_type": "code",
   "execution_count": 42,
   "metadata": {},
   "outputs": [],
   "source": [
    "df16 = df15.copy()"
   ]
  },
  {
   "cell_type": "code",
   "execution_count": 43,
   "metadata": {},
   "outputs": [
    {
     "data": {
      "text/plain": [
       "(627426, 28)"
      ]
     },
     "execution_count": 43,
     "metadata": {},
     "output_type": "execute_result"
    }
   ],
   "source": [
    "# df16[\"IsFranchise\"] = np.where((df16['FranchiseCode'] == 0 | df16['FranchiseCode']== 1 , 'N', 'Y'))\n",
    "# df16['FranchiseCode'] = pd.to_numeric(df16['FranchiseCode'], errors='coerce')\n",
    "df17 = df16.loc[df16['FranchiseCode'] <= 1]\n",
    "df17.shape"
   ]
  },
  {
   "cell_type": "code",
   "execution_count": 44,
   "metadata": {},
   "outputs": [
    {
     "data": {
      "text/plain": [
       "Index(['LoanNr_ChkDgt', 'Name', 'City', 'State', 'Zip', 'Bank', 'BankState',\n",
       "       'NAICS', 'ApprovalDate', 'ApprovalFY', 'Term', 'NoEmp', 'NewExist',\n",
       "       'CreateJob', 'RetainedJob', 'FranchiseCode', 'UrbanRural', 'RevLineCr',\n",
       "       'LowDoc', 'ChgOffDate', 'DisbursementDate', 'DisbursementGross',\n",
       "       'BalanceGross', 'MIS_Status', 'ChgOffPrinGr', 'GrAppv', 'SBA_Appv',\n",
       "       'Industry'],\n",
       "      dtype='object')"
      ]
     },
     "execution_count": 44,
     "metadata": {},
     "output_type": "execute_result"
    }
   ],
   "source": [
    "df17.columns"
   ]
  },
  {
   "cell_type": "code",
   "execution_count": 45,
   "metadata": {},
   "outputs": [
    {
     "data": {
      "text/plain": [
       "(495964, 28)"
      ]
     },
     "execution_count": 45,
     "metadata": {},
     "output_type": "execute_result"
    }
   ],
   "source": [
    "mask = df17[\"UrbanRural\"] == 0\n",
    "df18 = df17[~mask]\n",
    "df18.shape"
   ]
  },
  {
   "cell_type": "code",
   "execution_count": 46,
   "metadata": {},
   "outputs": [],
   "source": [
    "df19=df18.copy()"
   ]
  },
  {
   "cell_type": "code",
   "execution_count": 47,
   "metadata": {},
   "outputs": [],
   "source": [
    "df20 = df19.loc[((df19['RevLineCr'] == 'Y') | (df19['RevLineCr'] == 'N')) ]"
   ]
  },
  {
   "cell_type": "code",
   "execution_count": 48,
   "metadata": {},
   "outputs": [
    {
     "data": {
      "text/plain": [
       "(322702, 28)"
      ]
     },
     "execution_count": 48,
     "metadata": {},
     "output_type": "execute_result"
    }
   ],
   "source": [
    "df20.shape"
   ]
  },
  {
   "cell_type": "code",
   "execution_count": 49,
   "metadata": {},
   "outputs": [
    {
     "data": {
      "text/plain": [
       "(319365, 28)"
      ]
     },
     "execution_count": 49,
     "metadata": {},
     "output_type": "execute_result"
    }
   ],
   "source": [
    "df21 = df20.loc[((df20['LowDoc'] == 'Y') | (df20['LowDoc'] == 'N'))]\n",
    "df21.shape"
   ]
  },
  {
   "cell_type": "code",
   "execution_count": 50,
   "metadata": {},
   "outputs": [],
   "source": [
    "df_tableau = df21.copy()"
   ]
  },
  {
   "cell_type": "code",
   "execution_count": 51,
   "metadata": {},
   "outputs": [],
   "source": [
    "df22 = df21.drop(columns=['LoanNr_ChkDgt', 'ChgOffDate', 'DisbursementDate', 'DisbursementGross', 'BalanceGross','NAICS', 'ApprovalDate'])"
   ]
  },
  {
   "cell_type": "code",
   "execution_count": 52,
   "metadata": {},
   "outputs": [
    {
     "data": {
      "text/html": [
       "<div>\n",
       "<style scoped>\n",
       "    .dataframe tbody tr th:only-of-type {\n",
       "        vertical-align: middle;\n",
       "    }\n",
       "\n",
       "    .dataframe tbody tr th {\n",
       "        vertical-align: top;\n",
       "    }\n",
       "\n",
       "    .dataframe thead th {\n",
       "        text-align: right;\n",
       "    }\n",
       "</style>\n",
       "<table border=\"1\" class=\"dataframe\">\n",
       "  <thead>\n",
       "    <tr style=\"text-align: right;\">\n",
       "      <th></th>\n",
       "      <th>Name</th>\n",
       "      <th>City</th>\n",
       "      <th>State</th>\n",
       "      <th>Zip</th>\n",
       "      <th>Bank</th>\n",
       "      <th>BankState</th>\n",
       "      <th>ApprovalFY</th>\n",
       "      <th>Term</th>\n",
       "      <th>NoEmp</th>\n",
       "      <th>NewExist</th>\n",
       "      <th>...</th>\n",
       "      <th>RetainedJob</th>\n",
       "      <th>FranchiseCode</th>\n",
       "      <th>UrbanRural</th>\n",
       "      <th>RevLineCr</th>\n",
       "      <th>LowDoc</th>\n",
       "      <th>MIS_Status</th>\n",
       "      <th>ChgOffPrinGr</th>\n",
       "      <th>GrAppv</th>\n",
       "      <th>SBA_Appv</th>\n",
       "      <th>Industry</th>\n",
       "    </tr>\n",
       "  </thead>\n",
       "  <tbody>\n",
       "    <tr>\n",
       "      <th>24</th>\n",
       "      <td>SUBWAY</td>\n",
       "      <td>LITTLE ROCK</td>\n",
       "      <td>AR</td>\n",
       "      <td>72223</td>\n",
       "      <td>HOPE FCU</td>\n",
       "      <td>MS</td>\n",
       "      <td>2006</td>\n",
       "      <td>126</td>\n",
       "      <td>7</td>\n",
       "      <td>1.0</td>\n",
       "      <td>...</td>\n",
       "      <td>0</td>\n",
       "      <td>1</td>\n",
       "      <td>1</td>\n",
       "      <td>N</td>\n",
       "      <td>N</td>\n",
       "      <td>0</td>\n",
       "      <td>0.0</td>\n",
       "      <td>137300.0</td>\n",
       "      <td>116705.0</td>\n",
       "      <td>Accom/Food_serv</td>\n",
       "    </tr>\n",
       "    <tr>\n",
       "      <th>28</th>\n",
       "      <td>WEYLAND CORPORATION</td>\n",
       "      <td>CAMARILLO</td>\n",
       "      <td>CA</td>\n",
       "      <td>93010</td>\n",
       "      <td>WELLS FARGO BANK NATL ASSOC</td>\n",
       "      <td>SD</td>\n",
       "      <td>2006</td>\n",
       "      <td>83</td>\n",
       "      <td>18</td>\n",
       "      <td>2.0</td>\n",
       "      <td>...</td>\n",
       "      <td>23</td>\n",
       "      <td>1</td>\n",
       "      <td>1</td>\n",
       "      <td>Y</td>\n",
       "      <td>N</td>\n",
       "      <td>0</td>\n",
       "      <td>0.0</td>\n",
       "      <td>100000.0</td>\n",
       "      <td>50000.0</td>\n",
       "      <td>Educational</td>\n",
       "    </tr>\n",
       "    <tr>\n",
       "      <th>30</th>\n",
       "      <td>CHICAGO BRICK UNLIMITED INC</td>\n",
       "      <td>MIAMI</td>\n",
       "      <td>FL</td>\n",
       "      <td>33186</td>\n",
       "      <td>CITIBANK, N.A.</td>\n",
       "      <td>FL</td>\n",
       "      <td>2006</td>\n",
       "      <td>84</td>\n",
       "      <td>4</td>\n",
       "      <td>1.0</td>\n",
       "      <td>...</td>\n",
       "      <td>4</td>\n",
       "      <td>1</td>\n",
       "      <td>1</td>\n",
       "      <td>Y</td>\n",
       "      <td>N</td>\n",
       "      <td>0</td>\n",
       "      <td>0.0</td>\n",
       "      <td>35000.0</td>\n",
       "      <td>17500.0</td>\n",
       "      <td>Construction</td>\n",
       "    </tr>\n",
       "    <tr>\n",
       "      <th>32</th>\n",
       "      <td>RZI, INC.</td>\n",
       "      <td>NEW ORLEANS</td>\n",
       "      <td>LA</td>\n",
       "      <td>70130</td>\n",
       "      <td>BUSINESS RES. CAP. SPECIALTY B</td>\n",
       "      <td>LA</td>\n",
       "      <td>2006</td>\n",
       "      <td>60</td>\n",
       "      <td>3</td>\n",
       "      <td>1.0</td>\n",
       "      <td>...</td>\n",
       "      <td>0</td>\n",
       "      <td>1</td>\n",
       "      <td>1</td>\n",
       "      <td>N</td>\n",
       "      <td>N</td>\n",
       "      <td>0</td>\n",
       "      <td>0.0</td>\n",
       "      <td>50000.0</td>\n",
       "      <td>42500.0</td>\n",
       "      <td>RE/Rental/Lease</td>\n",
       "    </tr>\n",
       "    <tr>\n",
       "      <th>34</th>\n",
       "      <td>HUTMACHER HOLDINGS INC</td>\n",
       "      <td>LEANDER</td>\n",
       "      <td>TX</td>\n",
       "      <td>78641</td>\n",
       "      <td>WELLS FARGO BANK NATL ASSOC</td>\n",
       "      <td>SD</td>\n",
       "      <td>2006</td>\n",
       "      <td>80</td>\n",
       "      <td>2</td>\n",
       "      <td>1.0</td>\n",
       "      <td>...</td>\n",
       "      <td>6</td>\n",
       "      <td>1</td>\n",
       "      <td>2</td>\n",
       "      <td>Y</td>\n",
       "      <td>N</td>\n",
       "      <td>0</td>\n",
       "      <td>0.0</td>\n",
       "      <td>25000.0</td>\n",
       "      <td>12500.0</td>\n",
       "      <td>Prof/Science/Tech</td>\n",
       "    </tr>\n",
       "    <tr>\n",
       "      <th>65</th>\n",
       "      <td>B&amp;B DIPNETS</td>\n",
       "      <td>WASILLA</td>\n",
       "      <td>AK</td>\n",
       "      <td>99654</td>\n",
       "      <td>WELLS FARGO BANK NATL ASSOC</td>\n",
       "      <td>SD</td>\n",
       "      <td>2006</td>\n",
       "      <td>83</td>\n",
       "      <td>2</td>\n",
       "      <td>1.0</td>\n",
       "      <td>...</td>\n",
       "      <td>2</td>\n",
       "      <td>1</td>\n",
       "      <td>1</td>\n",
       "      <td>Y</td>\n",
       "      <td>N</td>\n",
       "      <td>0</td>\n",
       "      <td>0.0</td>\n",
       "      <td>30000.0</td>\n",
       "      <td>15000.0</td>\n",
       "      <td>Manufacturing</td>\n",
       "    </tr>\n",
       "    <tr>\n",
       "      <th>67</th>\n",
       "      <td>LILY DAY GARDENS</td>\n",
       "      <td>BURNET</td>\n",
       "      <td>TX</td>\n",
       "      <td>78611</td>\n",
       "      <td>WELLS FARGO BANK NATL ASSOC</td>\n",
       "      <td>SD</td>\n",
       "      <td>2006</td>\n",
       "      <td>26</td>\n",
       "      <td>4</td>\n",
       "      <td>2.0</td>\n",
       "      <td>...</td>\n",
       "      <td>5</td>\n",
       "      <td>1</td>\n",
       "      <td>2</td>\n",
       "      <td>Y</td>\n",
       "      <td>N</td>\n",
       "      <td>1</td>\n",
       "      <td>19994.0</td>\n",
       "      <td>20000.0</td>\n",
       "      <td>10000.0</td>\n",
       "      <td>Retail_trade</td>\n",
       "    </tr>\n",
       "    <tr>\n",
       "      <th>77</th>\n",
       "      <td>TULON PACIFIC LLC</td>\n",
       "      <td>IRVINE</td>\n",
       "      <td>CA</td>\n",
       "      <td>92618</td>\n",
       "      <td>WELLS FARGO BANK NATL ASSOC</td>\n",
       "      <td>SD</td>\n",
       "      <td>2006</td>\n",
       "      <td>36</td>\n",
       "      <td>18</td>\n",
       "      <td>1.0</td>\n",
       "      <td>...</td>\n",
       "      <td>19</td>\n",
       "      <td>1</td>\n",
       "      <td>1</td>\n",
       "      <td>Y</td>\n",
       "      <td>N</td>\n",
       "      <td>0</td>\n",
       "      <td>0.0</td>\n",
       "      <td>300000.0</td>\n",
       "      <td>150000.0</td>\n",
       "      <td>Wholesale_trade</td>\n",
       "    </tr>\n",
       "    <tr>\n",
       "      <th>89</th>\n",
       "      <td>SHAFI SECURITY</td>\n",
       "      <td>THORNTON</td>\n",
       "      <td>CO</td>\n",
       "      <td>80602</td>\n",
       "      <td>JPMORGAN CHASE BANK NATL ASSOC</td>\n",
       "      <td>IL</td>\n",
       "      <td>2006</td>\n",
       "      <td>54</td>\n",
       "      <td>4</td>\n",
       "      <td>1.0</td>\n",
       "      <td>...</td>\n",
       "      <td>4</td>\n",
       "      <td>1</td>\n",
       "      <td>2</td>\n",
       "      <td>Y</td>\n",
       "      <td>N</td>\n",
       "      <td>1</td>\n",
       "      <td>28979.0</td>\n",
       "      <td>30000.0</td>\n",
       "      <td>15000.0</td>\n",
       "      <td>Admin_sup/Waste_Mgmt_Rem</td>\n",
       "    </tr>\n",
       "    <tr>\n",
       "      <th>123</th>\n",
       "      <td>ONE BITE JAPANESE GRILL</td>\n",
       "      <td>OVERLAND PARK</td>\n",
       "      <td>KS</td>\n",
       "      <td>66213</td>\n",
       "      <td>VALLEY VIEW STATE BANK</td>\n",
       "      <td>KS</td>\n",
       "      <td>2006</td>\n",
       "      <td>60</td>\n",
       "      <td>8</td>\n",
       "      <td>2.0</td>\n",
       "      <td>...</td>\n",
       "      <td>0</td>\n",
       "      <td>1</td>\n",
       "      <td>1</td>\n",
       "      <td>N</td>\n",
       "      <td>N</td>\n",
       "      <td>0</td>\n",
       "      <td>0.0</td>\n",
       "      <td>95000.0</td>\n",
       "      <td>80750.0</td>\n",
       "      <td>Accom/Food_serv</td>\n",
       "    </tr>\n",
       "  </tbody>\n",
       "</table>\n",
       "<p>10 rows × 21 columns</p>\n",
       "</div>"
      ],
      "text/plain": [
       "                            Name           City State    Zip  \\\n",
       "24                        SUBWAY    LITTLE ROCK    AR  72223   \n",
       "28           WEYLAND CORPORATION      CAMARILLO    CA  93010   \n",
       "30   CHICAGO BRICK UNLIMITED INC          MIAMI    FL  33186   \n",
       "32                     RZI, INC.    NEW ORLEANS    LA  70130   \n",
       "34        HUTMACHER HOLDINGS INC        LEANDER    TX  78641   \n",
       "65                   B&B DIPNETS        WASILLA    AK  99654   \n",
       "67              LILY DAY GARDENS         BURNET    TX  78611   \n",
       "77             TULON PACIFIC LLC         IRVINE    CA  92618   \n",
       "89                SHAFI SECURITY       THORNTON    CO  80602   \n",
       "123      ONE BITE JAPANESE GRILL  OVERLAND PARK    KS  66213   \n",
       "\n",
       "                               Bank BankState ApprovalFY  Term  NoEmp  \\\n",
       "24                         HOPE FCU        MS       2006   126      7   \n",
       "28      WELLS FARGO BANK NATL ASSOC        SD       2006    83     18   \n",
       "30                   CITIBANK, N.A.        FL       2006    84      4   \n",
       "32   BUSINESS RES. CAP. SPECIALTY B        LA       2006    60      3   \n",
       "34      WELLS FARGO BANK NATL ASSOC        SD       2006    80      2   \n",
       "65      WELLS FARGO BANK NATL ASSOC        SD       2006    83      2   \n",
       "67      WELLS FARGO BANK NATL ASSOC        SD       2006    26      4   \n",
       "77      WELLS FARGO BANK NATL ASSOC        SD       2006    36     18   \n",
       "89   JPMORGAN CHASE BANK NATL ASSOC        IL       2006    54      4   \n",
       "123          VALLEY VIEW STATE BANK        KS       2006    60      8   \n",
       "\n",
       "     NewExist  ...  RetainedJob  FranchiseCode  UrbanRural  RevLineCr LowDoc  \\\n",
       "24        1.0  ...            0              1           1          N      N   \n",
       "28        2.0  ...           23              1           1          Y      N   \n",
       "30        1.0  ...            4              1           1          Y      N   \n",
       "32        1.0  ...            0              1           1          N      N   \n",
       "34        1.0  ...            6              1           2          Y      N   \n",
       "65        1.0  ...            2              1           1          Y      N   \n",
       "67        2.0  ...            5              1           2          Y      N   \n",
       "77        1.0  ...           19              1           1          Y      N   \n",
       "89        1.0  ...            4              1           2          Y      N   \n",
       "123       2.0  ...            0              1           1          N      N   \n",
       "\n",
       "    MIS_Status  ChgOffPrinGr    GrAppv  SBA_Appv                  Industry  \n",
       "24           0           0.0  137300.0  116705.0           Accom/Food_serv  \n",
       "28           0           0.0  100000.0   50000.0               Educational  \n",
       "30           0           0.0   35000.0   17500.0              Construction  \n",
       "32           0           0.0   50000.0   42500.0           RE/Rental/Lease  \n",
       "34           0           0.0   25000.0   12500.0         Prof/Science/Tech  \n",
       "65           0           0.0   30000.0   15000.0             Manufacturing  \n",
       "67           1       19994.0   20000.0   10000.0              Retail_trade  \n",
       "77           0           0.0  300000.0  150000.0           Wholesale_trade  \n",
       "89           1       28979.0   30000.0   15000.0  Admin_sup/Waste_Mgmt_Rem  \n",
       "123          0           0.0   95000.0   80750.0           Accom/Food_serv  \n",
       "\n",
       "[10 rows x 21 columns]"
      ]
     },
     "execution_count": 52,
     "metadata": {},
     "output_type": "execute_result"
    }
   ],
   "source": [
    "df22.head(10)"
   ]
  },
  {
   "cell_type": "code",
   "execution_count": 53,
   "metadata": {},
   "outputs": [
    {
     "data": {
      "text/plain": [
       "Name              object\n",
       "City              object\n",
       "State             object\n",
       "Zip                int64\n",
       "Bank              object\n",
       "BankState         object\n",
       "ApprovalFY        object\n",
       "Term               int64\n",
       "NoEmp              int64\n",
       "NewExist         float64\n",
       "CreateJob          int64\n",
       "RetainedJob        int64\n",
       "FranchiseCode      int64\n",
       "UrbanRural         int64\n",
       "RevLineCr         object\n",
       "LowDoc            object\n",
       "MIS_Status         int64\n",
       "ChgOffPrinGr     float64\n",
       "GrAppv           float64\n",
       "SBA_Appv         float64\n",
       "Industry          object\n",
       "dtype: object"
      ]
     },
     "execution_count": 53,
     "metadata": {},
     "output_type": "execute_result"
    }
   ],
   "source": [
    "df22.dtypes"
   ]
  },
  {
   "cell_type": "code",
   "execution_count": 54,
   "metadata": {},
   "outputs": [
    {
     "data": {
      "text/plain": [
       "0    238121\n",
       "1     81244\n",
       "Name: MIS_Status, dtype: int64"
      ]
     },
     "execution_count": 54,
     "metadata": {},
     "output_type": "execute_result"
    }
   ],
   "source": [
    "df22[\"MIS_Status\"].value_counts()"
   ]
  },
  {
   "cell_type": "code",
   "execution_count": 55,
   "metadata": {},
   "outputs": [
    {
     "name": "stderr",
     "output_type": "stream",
     "text": [
      "C:\\Users\\ljm47\\AppData\\Local\\Temp\\ipykernel_29896\\1013323277.py:2: FutureWarning: The default value of numeric_only in DataFrame.corr is deprecated. In a future version, it will default to False. Select only valid columns or specify the value of numeric_only to silence this warning.\n",
      "  cor_relation = df22.corr()\n",
      "C:\\Users\\ljm47\\AppData\\Local\\Temp\\ipykernel_29896\\1013323277.py:6: FutureWarning: The default value of numeric_only in DataFrame.corr is deprecated. In a future version, it will default to False. Select only valid columns or specify the value of numeric_only to silence this warning.\n",
      "  g= sns.heatmap(df4[top_relations].corr(), annot=True)\n"
     ]
    },
    {
     "data": {
      "image/png": "[encoded data removed]",
      "text/plain": [
       "<Figure size 1600x1600 with 2 Axes>"
      ]
     },
     "metadata": {},
     "output_type": "display_data"
    }
   ],
   "source": [
    "import seaborn as sns\n",
    "cor_relation = df22.corr()\n",
    "cor_relation\n",
    "top_relations = cor_relation.index\n",
    "plt.figure(figsize=(16,16))\n",
    "g= sns.heatmap(df4[top_relations].corr(), annot=True)\n",
    "plt.show()"
   ]
  },
  {
   "cell_type": "code",
   "execution_count": 56,
   "metadata": {},
   "outputs": [
    {
     "data": {
      "text/plain": [
       "0    238121\n",
       "1     81244\n",
       "Name: MIS_Status, dtype: int64"
      ]
     },
     "execution_count": 56,
     "metadata": {},
     "output_type": "execute_result"
    }
   ],
   "source": [
    "df22[\"MIS_Status\"].value_counts()"
   ]
  },
  {
   "cell_type": "code",
   "execution_count": 57,
   "metadata": {},
   "outputs": [
    {
     "data": {
      "text/plain": [
       "Index(['Name', 'City', 'State', 'Zip', 'Bank', 'BankState', 'ApprovalFY',\n",
       "       'Term', 'NoEmp', 'NewExist', 'CreateJob', 'RetainedJob',\n",
       "       'FranchiseCode', 'UrbanRural', 'RevLineCr', 'LowDoc', 'MIS_Status',\n",
       "       'ChgOffPrinGr', 'GrAppv', 'SBA_Appv', 'Industry'],\n",
       "      dtype='object')"
      ]
     },
     "execution_count": 57,
     "metadata": {},
     "output_type": "execute_result"
    }
   ],
   "source": [
    "df22.columns"
   ]
  },
  {
   "cell_type": "code",
   "execution_count": 58,
   "metadata": {},
   "outputs": [],
   "source": [
    "df23 = df22.drop(columns=['ChgOffPrinGr', 'Name', 'City', 'Zip', 'Bank','BankState', 'BankState', 'SBA_Appv', 'ApprovalFY'])#dropping these columns  as they are not required for ML"
   ]
  },
  {
   "cell_type": "code",
   "execution_count": 59,
   "metadata": {},
   "outputs": [
    {
     "data": {
      "text/html": [
       "<div>\n",
       "<style scoped>\n",
       "    .dataframe tbody tr th:only-of-type {\n",
       "        vertical-align: middle;\n",
       "    }\n",
       "\n",
       "    .dataframe tbody tr th {\n",
       "        vertical-align: top;\n",
       "    }\n",
       "\n",
       "    .dataframe thead th {\n",
       "        text-align: right;\n",
       "    }\n",
       "</style>\n",
       "<table border=\"1\" class=\"dataframe\">\n",
       "  <thead>\n",
       "    <tr style=\"text-align: right;\">\n",
       "      <th></th>\n",
       "      <th>State</th>\n",
       "      <th>Term</th>\n",
       "      <th>NoEmp</th>\n",
       "      <th>NewExist</th>\n",
       "      <th>CreateJob</th>\n",
       "      <th>RetainedJob</th>\n",
       "      <th>FranchiseCode</th>\n",
       "      <th>UrbanRural</th>\n",
       "      <th>RevLineCr</th>\n",
       "      <th>LowDoc</th>\n",
       "      <th>MIS_Status</th>\n",
       "      <th>GrAppv</th>\n",
       "      <th>Industry</th>\n",
       "    </tr>\n",
       "  </thead>\n",
       "  <tbody>\n",
       "    <tr>\n",
       "      <th>24</th>\n",
       "      <td>AR</td>\n",
       "      <td>126</td>\n",
       "      <td>7</td>\n",
       "      <td>1.0</td>\n",
       "      <td>0</td>\n",
       "      <td>0</td>\n",
       "      <td>1</td>\n",
       "      <td>1</td>\n",
       "      <td>N</td>\n",
       "      <td>N</td>\n",
       "      <td>0</td>\n",
       "      <td>137300.0</td>\n",
       "      <td>Accom/Food_serv</td>\n",
       "    </tr>\n",
       "    <tr>\n",
       "      <th>28</th>\n",
       "      <td>CA</td>\n",
       "      <td>83</td>\n",
       "      <td>18</td>\n",
       "      <td>2.0</td>\n",
       "      <td>5</td>\n",
       "      <td>23</td>\n",
       "      <td>1</td>\n",
       "      <td>1</td>\n",
       "      <td>Y</td>\n",
       "      <td>N</td>\n",
       "      <td>0</td>\n",
       "      <td>100000.0</td>\n",
       "      <td>Educational</td>\n",
       "    </tr>\n",
       "    <tr>\n",
       "      <th>30</th>\n",
       "      <td>FL</td>\n",
       "      <td>84</td>\n",
       "      <td>4</td>\n",
       "      <td>1.0</td>\n",
       "      <td>0</td>\n",
       "      <td>4</td>\n",
       "      <td>1</td>\n",
       "      <td>1</td>\n",
       "      <td>Y</td>\n",
       "      <td>N</td>\n",
       "      <td>0</td>\n",
       "      <td>35000.0</td>\n",
       "      <td>Construction</td>\n",
       "    </tr>\n",
       "    <tr>\n",
       "      <th>32</th>\n",
       "      <td>LA</td>\n",
       "      <td>60</td>\n",
       "      <td>3</td>\n",
       "      <td>1.0</td>\n",
       "      <td>0</td>\n",
       "      <td>0</td>\n",
       "      <td>1</td>\n",
       "      <td>1</td>\n",
       "      <td>N</td>\n",
       "      <td>N</td>\n",
       "      <td>0</td>\n",
       "      <td>50000.0</td>\n",
       "      <td>RE/Rental/Lease</td>\n",
       "    </tr>\n",
       "    <tr>\n",
       "      <th>34</th>\n",
       "      <td>TX</td>\n",
       "      <td>80</td>\n",
       "      <td>2</td>\n",
       "      <td>1.0</td>\n",
       "      <td>4</td>\n",
       "      <td>6</td>\n",
       "      <td>1</td>\n",
       "      <td>2</td>\n",
       "      <td>Y</td>\n",
       "      <td>N</td>\n",
       "      <td>0</td>\n",
       "      <td>25000.0</td>\n",
       "      <td>Prof/Science/Tech</td>\n",
       "    </tr>\n",
       "  </tbody>\n",
       "</table>\n",
       "</div>"
      ],
      "text/plain": [
       "   State  Term  NoEmp  NewExist  CreateJob  RetainedJob  FranchiseCode  \\\n",
       "24    AR   126      7       1.0          0            0              1   \n",
       "28    CA    83     18       2.0          5           23              1   \n",
       "30    FL    84      4       1.0          0            4              1   \n",
       "32    LA    60      3       1.0          0            0              1   \n",
       "34    TX    80      2       1.0          4            6              1   \n",
       "\n",
       "    UrbanRural RevLineCr LowDoc  MIS_Status    GrAppv           Industry  \n",
       "24           1         N      N           0  137300.0    Accom/Food_serv  \n",
       "28           1         Y      N           0  100000.0        Educational  \n",
       "30           1         Y      N           0   35000.0       Construction  \n",
       "32           1         N      N           0   50000.0    RE/Rental/Lease  \n",
       "34           2         Y      N           0   25000.0  Prof/Science/Tech  "
      ]
     },
     "execution_count": 59,
     "metadata": {},
     "output_type": "execute_result"
    }
   ],
   "source": [
    "df23.head()"
   ]
  },
  {
   "cell_type": "code",
   "execution_count": 60,
   "metadata": {},
   "outputs": [
    {
     "data": {
      "text/plain": [
       "State             object\n",
       "Term               int64\n",
       "NoEmp              int64\n",
       "NewExist         float64\n",
       "CreateJob          int64\n",
       "RetainedJob        int64\n",
       "FranchiseCode      int64\n",
       "UrbanRural         int64\n",
       "RevLineCr         object\n",
       "LowDoc            object\n",
       "MIS_Status         int64\n",
       "GrAppv           float64\n",
       "Industry          object\n",
       "dtype: object"
      ]
     },
     "execution_count": 60,
     "metadata": {},
     "output_type": "execute_result"
    }
   ],
   "source": [
    "df23.dtypes"
   ]
  },
  {
   "cell_type": "code",
   "execution_count": null,
   "metadata": {},
   "outputs": [],
   "source": []
  },
  {
   "cell_type": "markdown",
   "metadata": {},
   "source": [
    "MACHINE LEARNING"
   ]
  },
  {
   "cell_type": "code",
   "execution_count": 61,
   "metadata": {},
   "outputs": [
    {
     "data": {
      "text/plain": [
       "(319365,)"
      ]
     },
     "execution_count": 61,
     "metadata": {},
     "output_type": "execute_result"
    }
   ],
   "source": [
    "X = df23.drop(\"MIS_Status\", axis = 1)\n",
    "y= df23[\"MIS_Status\"]\n",
    "y.shape"
   ]
  },
  {
   "cell_type": "code",
   "execution_count": 62,
   "metadata": {},
   "outputs": [],
   "source": [
    "X_train, X_val, y_train, y_val = train_test_split(X, y, test_size= 0.10, stratify= y)"
   ]
  },
  {
   "cell_type": "code",
   "execution_count": 63,
   "metadata": {},
   "outputs": [],
   "source": [
    "#Removing part of the above X_Train data for testing.\n",
    "\n",
    "X1= X_train\n",
    "y1 = y_train\n",
    "X_train, X_test, y_train, y_test = train_test_split(X1, y1, test_size= 0.10, stratify= y1)"
   ]
  },
  {
   "cell_type": "code",
   "execution_count": 64,
   "metadata": {},
   "outputs": [
    {
     "data": {
      "text/plain": [
       "State             object\n",
       "Term               int64\n",
       "NoEmp              int64\n",
       "NewExist         float64\n",
       "CreateJob          int64\n",
       "RetainedJob        int64\n",
       "FranchiseCode      int64\n",
       "UrbanRural         int64\n",
       "RevLineCr         object\n",
       "LowDoc            object\n",
       "GrAppv           float64\n",
       "Industry          object\n",
       "dtype: object"
      ]
     },
     "execution_count": 64,
     "metadata": {},
     "output_type": "execute_result"
    }
   ],
   "source": [
    "X_train.dtypes"
   ]
  },
  {
   "cell_type": "code",
   "execution_count": 65,
   "metadata": {},
   "outputs": [],
   "source": [
    "from sklearn.compose import ColumnTransformer\n",
    "from sklearn.preprocessing import OneHotEncoder\n",
    "from sklearn.preprocessing import OrdinalEncoder\n",
    "transformer = ColumnTransformer(transformers= [\n",
    "    ('tnf1', OneHotEncoder( sparse=False, handle_unknown='ignore'), ['State','RevLineCr','LowDoc', 'Industry' ])\n",
    "], remainder= 'passthrough' )"
   ]
  },
  {
   "cell_type": "code",
   "execution_count": 66,
   "metadata": {},
   "outputs": [
    {
     "name": "stderr",
     "output_type": "stream",
     "text": [
      "c:\\Users\\ljm47\\anaconda3\\envs\\dev\\lib\\site-packages\\sklearn\\preprocessing\\_encoders.py:868: FutureWarning: `sparse` was renamed to `sparse_output` in version 1.2 and will be removed in 1.4. `sparse_output` is ignored unless you leave `sparse` to its default value.\n",
      "  warnings.warn(\n"
     ]
    }
   ],
   "source": [
    "X_train_transformed= transformer.fit_transform(X_train)\n",
    "X_test_transformed = transformer.transform(X_test)\n",
    "X_val_transformed = transformer.transform(X_val)"
   ]
  },
  {
   "cell_type": "code",
   "execution_count": 67,
   "metadata": {},
   "outputs": [
    {
     "data": {
      "text/plain": [
       "(258685, 83)"
      ]
     },
     "execution_count": 67,
     "metadata": {},
     "output_type": "execute_result"
    }
   ],
   "source": [
    "X_train_transformed.shape"
   ]
  },
  {
   "cell_type": "code",
   "execution_count": 68,
   "metadata": {},
   "outputs": [
    {
     "data": {
      "text/plain": [
       "(258685, 83)"
      ]
     },
     "execution_count": 68,
     "metadata": {},
     "output_type": "execute_result"
    }
   ],
   "source": [
    "from sklearn.preprocessing import StandardScaler\n",
    "scaler= StandardScaler()\n",
    "X_scaler = scaler.fit(X_train_transformed)\n",
    "\n",
    "X_train_scaled = X_scaler.transform(X_train_transformed)\n",
    "X_test_scaled = X_scaler.transform(X_test_transformed)\n",
    "X_val_scaled = X_scaler.transform(X_val_transformed)\n",
    "X_train_scaled.shape"
   ]
  },
  {
   "cell_type": "code",
   "execution_count": 69,
   "metadata": {},
   "outputs": [
    {
     "name": "stdout",
     "output_type": "stream",
     "text": [
      "              precision    recall  f1-score   support\n",
      "\n",
      "           0       0.94      0.96      0.95     21431\n",
      "           1       0.88      0.83      0.85      7312\n",
      "\n",
      "    accuracy                           0.93     28743\n",
      "   macro avg       0.91      0.89      0.90     28743\n",
      "weighted avg       0.93      0.93      0.93     28743\n",
      "\n"
     ]
    }
   ],
   "source": [
    "from sklearn.ensemble import RandomForestClassifier\n",
    "rf_model = RandomForestClassifier(n_estimators=500, random_state=78)\n",
    "\n",
    "# Fitting the model\n",
    "rf_model = rf_model.fit(X_train_scaled, y_train)\n",
    "predictions_rf = rf_model.predict(X_test_scaled)\n",
    "print(classification_report(y_test, predictions_rf))"
   ]
  },
  {
   "cell_type": "code",
   "execution_count": 70,
   "metadata": {},
   "outputs": [
    {
     "name": "stdout",
     "output_type": "stream",
     "text": [
      "              precision    recall  f1-score   support\n",
      "\n",
      "           0       0.94      0.96      0.95     23812\n",
      "           1       0.88      0.83      0.85      8125\n",
      "\n",
      "    accuracy                           0.93     31937\n",
      "   macro avg       0.91      0.90      0.90     31937\n",
      "weighted avg       0.93      0.93      0.93     31937\n",
      "\n"
     ]
    }
   ],
   "source": [
    "predictions_rf_validate = rf_model.predict(X_val_scaled)\n",
    "print(classification_report(y_val, predictions_rf_validate))"
   ]
  },
  {
   "cell_type": "markdown",
   "metadata": {},
   "source": [
    "Now validating the 25% of the dataset to see if the values Recall and accuracy are still good. "
   ]
  },
  {
   "cell_type": "code",
   "execution_count": 71,
   "metadata": {},
   "outputs": [
    {
     "name": "stdout",
     "output_type": "stream",
     "text": [
      "0    178423\n",
      "1     61101\n",
      "Name: MIS_Status, dtype: int64\n",
      "0    59698\n",
      "1    20143\n",
      "Name: MIS_Status, dtype: int64\n"
     ]
    }
   ],
   "source": [
    "df23_75 = df23.sample(frac= 0.75)\n",
    "df23_25= df23.drop(df23_75.index)\n",
    "\n",
    "X_75= df23_75.drop('MIS_Status', axis = 1)\n",
    "y_75 = df23_75['MIS_Status']\n",
    "print(y_75.value_counts())\n",
    "\n",
    "X_25= df23_25.drop('MIS_Status', axis = 1)\n",
    "y_25 = df23_25['MIS_Status']\n",
    "\n",
    "print(y_25.value_counts())"
   ]
  },
  {
   "cell_type": "code",
   "execution_count": 72,
   "metadata": {},
   "outputs": [
    {
     "data": {
      "text/plain": [
       "(79841, 83)"
      ]
     },
     "execution_count": 72,
     "metadata": {},
     "output_type": "execute_result"
    }
   ],
   "source": [
    "X_25_transformed = transformer.transform(X_25)\n",
    "X_25_scaled = X_scaler.transform(X_25_transformed)\n",
    "X_25_scaled.shape\n",
    "\n"
   ]
  },
  {
   "cell_type": "code",
   "execution_count": 73,
   "metadata": {},
   "outputs": [
    {
     "data": {
      "text/plain": [
       "(79841,)"
      ]
     },
     "execution_count": 73,
     "metadata": {},
     "output_type": "execute_result"
    }
   ],
   "source": [
    "y_25.shape"
   ]
  },
  {
   "cell_type": "code",
   "execution_count": 74,
   "metadata": {},
   "outputs": [
    {
     "name": "stdout",
     "output_type": "stream",
     "text": [
      "              precision    recall  f1-score   support\n",
      "\n",
      "           0       0.99      0.99      0.99     59698\n",
      "           1       0.98      0.97      0.97     20143\n",
      "\n",
      "    accuracy                           0.99     79841\n",
      "   macro avg       0.98      0.98      0.98     79841\n",
      "weighted avg       0.99      0.99      0.99     79841\n",
      "\n"
     ]
    }
   ],
   "source": [
    "\n",
    "predictions_rf_25 = rf_model.predict(X_25_scaled)\n",
    "print(classification_report(y_25, predictions_rf_25))"
   ]
  },
  {
   "cell_type": "markdown",
   "metadata": {},
   "source": [
    "VOTING CLASSIFIER"
   ]
  },
  {
   "cell_type": "code",
   "execution_count": 75,
   "metadata": {},
   "outputs": [],
   "source": [
    "#Voting Classifier\n",
    "from sklearn.ensemble import VotingClassifier\n",
    "from sklearn.linear_model import LogisticRegression\n",
    "from sklearn.tree import DecisionTreeClassifier\n",
    "from sklearn.metrics import balanced_accuracy_score\n",
    "rfc = RandomForestClassifier(random_state=42)\n",
    "dtc = DecisionTreeClassifier(random_state=42)\n",
    "lr = LogisticRegression()"
   ]
  },
  {
   "cell_type": "code",
   "execution_count": 76,
   "metadata": {},
   "outputs": [
    {
     "name": "stdout",
     "output_type": "stream",
     "text": [
      "0.9759983800672256\n",
      "              precision    recall  f1-score   support\n",
      "\n",
      "           0       0.99      0.99      0.99     59698\n",
      "           1       0.98      0.96      0.97     20143\n",
      "\n",
      "    accuracy                           0.98     79841\n",
      "   macro avg       0.98      0.98      0.98     79841\n",
      "weighted avg       0.98      0.98      0.98     79841\n",
      "\n"
     ]
    }
   ],
   "source": [
    "pipe = VotingClassifier([('dtc', dtc),('rfc', rfc),('lr', lr)], weights = [4,5,1])\n",
    "pipe.fit(X_train_scaled, y_train)\n",
    "\n",
    "y_predict = pipe.predict(X_25_scaled)\n",
    "print(balanced_accuracy_score(y_25, y_predict))\n",
    "\n",
    "print(classification_report(y_25, y_predict))\n"
   ]
  },
  {
   "cell_type": "markdown",
   "metadata": {},
   "source": [
    "Bagging Classifier"
   ]
  },
  {
   "cell_type": "code",
   "execution_count": 77,
   "metadata": {},
   "outputs": [],
   "source": [
    "#Using Bagging\n",
    "from sklearn.ensemble import BaggingClassifier\n",
    "from sklearn.tree import DecisionTreeClassifier\n",
    "from sklearn .svm import SVC\n",
    "bag = BaggingClassifier(\n",
    "    base_estimator = DecisionTreeClassifier(),\n",
    "    n_estimators = 500,\n",
    "    max_samples = 0.60, #no of samples from Xtrain\n",
    "    bootstrap = True,\n",
    "    random_state =  42\n",
    ")"
   ]
  },
  {
   "cell_type": "code",
   "execution_count": 78,
   "metadata": {},
   "outputs": [
    {
     "name": "stderr",
     "output_type": "stream",
     "text": [
      "c:\\Users\\ljm47\\anaconda3\\envs\\dev\\lib\\site-packages\\sklearn\\ensemble\\_base.py:166: FutureWarning: `base_estimator` was renamed to `estimator` in version 1.2 and will be removed in 1.4.\n",
      "  warnings.warn(\n"
     ]
    },
    {
     "name": "stdout",
     "output_type": "stream",
     "text": [
      "Classification report for X_Test\n",
      "              precision    recall  f1-score   support\n",
      "\n",
      "           0       0.96      0.96      0.96     21431\n",
      "           1       0.88      0.88      0.88      7312\n",
      "\n",
      "    accuracy                           0.94     28743\n",
      "   macro avg       0.92      0.92      0.92     28743\n",
      "weighted avg       0.94      0.94      0.94     28743\n",
      "\n",
      "Classification report for X_25\n",
      "              precision    recall  f1-score   support\n",
      "\n",
      "           0       0.98      0.98      0.98     59698\n",
      "           1       0.95      0.95      0.95     20143\n",
      "\n",
      "    accuracy                           0.98     79841\n",
      "   macro avg       0.97      0.97      0.97     79841\n",
      "weighted avg       0.98      0.98      0.98     79841\n",
      "\n"
     ]
    }
   ],
   "source": [
    "bag.fit(X_train_scaled, y_train)\n",
    "\n",
    "y_pred = bag.predict(X_test_scaled)\n",
    "y_predict_25 = bag.predict(X_25_scaled)\n",
    "print(\"Classification report for X_Test\")\n",
    "print(classification_report(y_test, y_pred))\n",
    "\n",
    "print(\"Classification report for X_25\")\n",
    "print(classification_report(y_25, y_predict_25))"
   ]
  },
  {
   "cell_type": "markdown",
   "metadata": {},
   "source": [
    "Neural NETWORKS"
   ]
  },
  {
   "cell_type": "code",
   "execution_count": 79,
   "metadata": {},
   "outputs": [],
   "source": [
    "import keras_tuner as kt"
   ]
  },
  {
   "cell_type": "code",
   "execution_count": 80,
   "metadata": {},
   "outputs": [],
   "source": [
    "def create_model(hp):\n",
    "    nn_model = tf.keras.models.Sequential()\n",
    "    counter =0 #initialising the counter to 0 as we will write an IF Loop to pass the first layer\n",
    "\n",
    "    #Allow keras tune to decide which OPTIMIZER function to use while COMPILING the model\n",
    "    optimizer = hp.Choice('optimizer', values = ['adam', 'sgd', 'rmsprop', 'adadelta'])\n",
    "\n",
    "    #Setting up to choose how many layers to be added\n",
    "\n",
    "    for i in range(hp.Int('num_layers', min_value = 1, max_value = 5 )): # creates 5 models with layers 1 to 5 choosing below no of units between 8 to 128\n",
    "        if counter == 0:\n",
    "            nn_model.add(tf.keras.layers.Dense(hp.Int('units' + str(i),\n",
    "                                                      min_value = 8,\n",
    "                                                      max_value =256, ##minimum no. of units per layer is 8 and max is 128 \n",
    "                                                      step =8), activation = hp.Choice('activation' +str(i), values = ['relu', 'tanh', 'sigmoid']), input_dim = 83))\n",
    "            nn_model.add(Dropout(hp.Choice('dropout'+ str(i), values = [ 0.1,0.2,0.3,0.4,0.5,0.6,0.7,0.8,0.9])))\n",
    "        else:\n",
    "            nn_model.add(tf.keras.layers.Dense(hp.Int('units'+str(i),\n",
    "                                                      min_value = 8,\n",
    "                                                      max_value =256,\n",
    "                                                      step =8), activation= hp.Choice('activation' + str(i), values = ['relu', 'tanh', 'sigmoid'])\n",
    "                                                      ))\n",
    "            nn_model.add(Dropout(hp.Choice('dropout'+ str(i), values = [ 0.1,0.2,0.3,0.4,0.5,0.6,0.7,0.8,0.9])))\n",
    "        counter += 1\n",
    "    \n",
    "    #create last OUTPUT layer with 1 Neuron\n",
    "    nn_model.add(tf.keras.layers.Dense(units= 1, activation = 'sigmoid'))\n",
    "\n",
    "    #compile the model\n",
    "    nn_model.compile( optimizer=optimizer, loss = 'binary_crossentropy', metrics=[\"accuracy\"])\n",
    "\n",
    "    return nn_model\n",
    "    \n"
   ]
  },
  {
   "cell_type": "code",
   "execution_count": 81,
   "metadata": {},
   "outputs": [],
   "source": [
    "tuner_75= kt.RandomSearch(\n",
    "    create_model,\n",
    "    objective='val_accuracy',\n",
    "    max_trials = 3,\n",
    "    directory = \"Test\",\n",
    "    project_name = \"ML2\"\n",
    ")"
   ]
  },
  {
   "cell_type": "code",
   "execution_count": 82,
   "metadata": {},
   "outputs": [
    {
     "name": "stdout",
     "output_type": "stream",
     "text": [
      "Trial 3 Complete [02h 40m 39s]\n",
      "val_accuracy: 0.8786139488220215\n",
      "\n",
      "Best val_accuracy So Far: 0.8786139488220215\n",
      "Total elapsed time: 08h 08m 28s\n",
      "INFO:tensorflow:Oracle triggered exit\n"
     ]
    }
   ],
   "source": [
    "tuner_75.search(X_train_scaled, y_train, epochs = 30, validation_data= (X_test_scaled, y_test))"
   ]
  },
  {
   "cell_type": "code",
   "execution_count": 83,
   "metadata": {},
   "outputs": [
    {
     "name": "stdout",
     "output_type": "stream",
     "text": [
      "Epoch 1/50\n",
      "8084/8084 [==============================] - 15s 2ms/step - loss: 0.2937 - accuracy: 0.8729\n",
      "Epoch 2/50\n",
      "8084/8084 [==============================] - 14s 2ms/step - loss: 0.2937 - accuracy: 0.8725\n",
      "Epoch 3/50\n",
      "8084/8084 [==============================] - 14s 2ms/step - loss: 0.2921 - accuracy: 0.8730\n",
      "Epoch 4/50\n",
      "8084/8084 [==============================] - 14s 2ms/step - loss: 0.2928 - accuracy: 0.8731\n",
      "Epoch 5/50\n",
      "8084/8084 [==============================] - 14s 2ms/step - loss: 0.2920 - accuracy: 0.8734\n",
      "Epoch 6/50\n",
      "8084/8084 [==============================] - 14s 2ms/step - loss: 0.2917 - accuracy: 0.8735\n",
      "Epoch 7/50\n",
      "8084/8084 [==============================] - 16s 2ms/step - loss: 0.2909 - accuracy: 0.8741\n",
      "Epoch 8/50\n",
      "8084/8084 [==============================] - 19s 2ms/step - loss: 0.2914 - accuracy: 0.8741\n",
      "Epoch 9/50\n",
      "8084/8084 [==============================] - 19s 2ms/step - loss: 0.2901 - accuracy: 0.8749\n",
      "Epoch 10/50\n",
      "8084/8084 [==============================] - 19s 2ms/step - loss: 0.2904 - accuracy: 0.8746\n",
      "Epoch 11/50\n",
      "8084/8084 [==============================] - 19s 2ms/step - loss: 0.2904 - accuracy: 0.8742\n",
      "Epoch 12/50\n",
      "8084/8084 [==============================] - 19s 2ms/step - loss: 0.2898 - accuracy: 0.8753\n",
      "Epoch 13/50\n",
      "8084/8084 [==============================] - 19s 2ms/step - loss: 0.2894 - accuracy: 0.8752\n",
      "Epoch 14/50\n",
      "8084/8084 [==============================] - 20s 2ms/step - loss: 0.2893 - accuracy: 0.8744\n",
      "Epoch 15/50\n",
      "8084/8084 [==============================] - 18s 2ms/step - loss: 0.2898 - accuracy: 0.8746\n",
      "Epoch 16/50\n",
      "8084/8084 [==============================] - 18s 2ms/step - loss: 0.2889 - accuracy: 0.8752\n",
      "Epoch 17/50\n",
      "8084/8084 [==============================] - 18s 2ms/step - loss: 0.2885 - accuracy: 0.8751\n",
      "Epoch 18/50\n",
      "8084/8084 [==============================] - 19s 2ms/step - loss: 0.2887 - accuracy: 0.8748\n",
      "Epoch 19/50\n",
      "8084/8084 [==============================] - 19s 2ms/step - loss: 0.2886 - accuracy: 0.8749\n",
      "Epoch 20/50\n",
      "8084/8084 [==============================] - 21s 3ms/step - loss: 0.2888 - accuracy: 0.8750\n",
      "Epoch 21/50\n",
      "8084/8084 [==============================] - 21s 3ms/step - loss: 0.2878 - accuracy: 0.8750\n",
      "Epoch 22/50\n",
      "8084/8084 [==============================] - 19s 2ms/step - loss: 0.2879 - accuracy: 0.8751\n",
      "Epoch 23/50\n",
      "8084/8084 [==============================] - 19s 2ms/step - loss: 0.2874 - accuracy: 0.8758\n",
      "Epoch 24/50\n",
      "8084/8084 [==============================] - 19s 2ms/step - loss: 0.2876 - accuracy: 0.8750\n",
      "Epoch 25/50\n",
      "8084/8084 [==============================] - 18s 2ms/step - loss: 0.2871 - accuracy: 0.8753\n",
      "Epoch 26/50\n",
      "8084/8084 [==============================] - 18s 2ms/step - loss: 0.2882 - accuracy: 0.8754\n",
      "Epoch 27/50\n",
      "8084/8084 [==============================] - 18s 2ms/step - loss: 0.2884 - accuracy: 0.8750\n",
      "Epoch 28/50\n",
      "8084/8084 [==============================] - 19s 2ms/step - loss: 0.2868 - accuracy: 0.8764\n",
      "Epoch 29/50\n",
      "8084/8084 [==============================] - 18s 2ms/step - loss: 0.2865 - accuracy: 0.8760\n",
      "Epoch 30/50\n",
      "8084/8084 [==============================] - 19s 2ms/step - loss: 0.2864 - accuracy: 0.8756\n",
      "Epoch 31/50\n",
      "8084/8084 [==============================] - 19s 2ms/step - loss: 0.2867 - accuracy: 0.8760\n",
      "Epoch 32/50\n",
      "8084/8084 [==============================] - 18s 2ms/step - loss: 0.2865 - accuracy: 0.8758\n",
      "Epoch 33/50\n",
      "8084/8084 [==============================] - 19s 2ms/step - loss: 0.2860 - accuracy: 0.8768\n",
      "Epoch 34/50\n",
      "8084/8084 [==============================] - 19s 2ms/step - loss: 0.2862 - accuracy: 0.8760\n",
      "Epoch 35/50\n",
      "8084/8084 [==============================] - 18s 2ms/step - loss: 0.2860 - accuracy: 0.8764\n",
      "Epoch 36/50\n",
      "8084/8084 [==============================] - 17s 2ms/step - loss: 0.2862 - accuracy: 0.8767\n",
      "Epoch 37/50\n",
      "8084/8084 [==============================] - 18s 2ms/step - loss: 0.2859 - accuracy: 0.8767\n",
      "Epoch 38/50\n",
      "8084/8084 [==============================] - 18s 2ms/step - loss: 0.2851 - accuracy: 0.8770\n",
      "Epoch 39/50\n",
      "8084/8084 [==============================] - 17s 2ms/step - loss: 0.2854 - accuracy: 0.8764\n",
      "Epoch 40/50\n",
      "8084/8084 [==============================] - 18s 2ms/step - loss: 0.2845 - accuracy: 0.8770\n",
      "Epoch 41/50\n",
      "8084/8084 [==============================] - 17s 2ms/step - loss: 0.2854 - accuracy: 0.8765\n",
      "Epoch 42/50\n",
      "8084/8084 [==============================] - 19s 2ms/step - loss: 0.2849 - accuracy: 0.8769\n",
      "Epoch 43/50\n",
      "8084/8084 [==============================] - 19s 2ms/step - loss: 0.2841 - accuracy: 0.8777\n",
      "Epoch 44/50\n",
      "8084/8084 [==============================] - 19s 2ms/step - loss: 0.2838 - accuracy: 0.8776\n",
      "Epoch 45/50\n",
      "8084/8084 [==============================] - 20s 2ms/step - loss: 0.2847 - accuracy: 0.8775\n",
      "Epoch 46/50\n",
      "8084/8084 [==============================] - 19s 2ms/step - loss: 0.2842 - accuracy: 0.8779\n",
      "Epoch 47/50\n",
      "8084/8084 [==============================] - 19s 2ms/step - loss: 0.2850 - accuracy: 0.8779\n",
      "Epoch 48/50\n",
      "8084/8084 [==============================] - 16s 2ms/step - loss: 0.2843 - accuracy: 0.8775\n",
      "Epoch 49/50\n",
      "8084/8084 [==============================] - 16s 2ms/step - loss: 0.2837 - accuracy: 0.8776\n",
      "Epoch 50/50\n",
      "8084/8084 [==============================] - 22s 3ms/step - loss: 0.2829 - accuracy: 0.8783\n"
     ]
    },
    {
     "data": {
      "text/plain": [
       "<keras.src.callbacks.History at 0x1de4181b310>"
      ]
     },
     "execution_count": 83,
     "metadata": {},
     "output_type": "execute_result"
    }
   ],
   "source": [
    "#Using the best hyperparameters and building a model and fitting the Xtrain and Ytrain on the model\n",
    "\n",
    "tuner_75.get_best_hyperparameters()[0].values\n",
    "model = tuner_75.get_best_models(num_models=1)[0]\n",
    "model.fit(X_train_scaled, y_train, epochs= 50)"
   ]
  },
  {
   "cell_type": "code",
   "execution_count": 84,
   "metadata": {},
   "outputs": [
    {
     "name": "stdout",
     "output_type": "stream",
     "text": [
      "899/899 - 1s - loss: 0.2687 - accuracy: 0.8836 - 1s/epoch - 2ms/step\n"
     ]
    },
    {
     "data": {
      "text/plain": [
       "[0.2687359154224396, 0.8836238384246826]"
      ]
     },
     "execution_count": 84,
     "metadata": {},
     "output_type": "execute_result"
    }
   ],
   "source": [
    "from sklearn.metrics import accuracy_score\n",
    "from sklearn.metrics import precision_score\n",
    "from sklearn.metrics import recall_score\n",
    "from sklearn.metrics import f1_score\n",
    "from sklearn.metrics import cohen_kappa_score\n",
    "from sklearn.metrics import roc_auc_score\n",
    "from sklearn.metrics import confusion_matrix\n",
    "from keras.models import Sequential\n",
    "model.evaluate(X_test_scaled, y_test, verbose = 2)"
   ]
  },
  {
   "cell_type": "code",
   "execution_count": 85,
   "metadata": {},
   "outputs": [
    {
     "name": "stdout",
     "output_type": "stream",
     "text": [
      "899/899 [==============================] - 1s 2ms/step\n",
      "28743\n"
     ]
    }
   ],
   "source": [
    "y_predict = model.predict(X_test_scaled)\n",
    "\n",
    "y_predict1 = np.array(y_predict)\n",
    "y_flatten= y_predict1.flatten()\n",
    "print(len(y_flatten))\n",
    "\n",
    "for i in range(0,len(y_flatten)):\n",
    "    if y_flatten[i] >= 0.50:\n",
    "        y_flatten[i] = 1.0\n",
    "    else:\n",
    "        y_flatten[i] = 0"
   ]
  },
  {
   "cell_type": "code",
   "execution_count": 86,
   "metadata": {},
   "outputs": [
    {
     "name": "stdout",
     "output_type": "stream",
     "text": [
      "              precision    recall  f1-score   support\n",
      "\n",
      "           0       0.92      0.93      0.92     21431\n",
      "           1       0.78      0.75      0.77      7312\n",
      "\n",
      "    accuracy                           0.88     28743\n",
      "   macro avg       0.85      0.84      0.84     28743\n",
      "weighted avg       0.88      0.88      0.88     28743\n",
      "\n"
     ]
    }
   ],
   "source": [
    "from sklearn.metrics import classification_report\n",
    "\n",
    "print(classification_report(y_test, y_flatten))"
   ]
  },
  {
   "cell_type": "code",
   "execution_count": 87,
   "metadata": {},
   "outputs": [
    {
     "name": "stdout",
     "output_type": "stream",
     "text": [
      "2496/2496 - 4s - loss: 0.2596 - accuracy: 0.8881 - 4s/epoch - 2ms/step\n",
      "2496/2496 [==============================] - 3s 1ms/step\n",
      "79841\n"
     ]
    }
   ],
   "source": [
    "#TESTING THE 25% OF DATAFRAME TO SEE IF RECAL AND ACCURACY STILL HOLDS GOOD\n",
    "\n",
    "model.evaluate(X_25_scaled, y_25, verbose = 2)\n",
    "y_predict = model.predict(X_25_scaled)\n",
    "\n",
    "y_predict25 = np.array(y_predict)\n",
    "y_flatten25= y_predict25.flatten()\n",
    "print(len(y_flatten25))\n",
    "\n",
    "for i in range(0,len(y_flatten25)):\n",
    "    if y_flatten25[i] >= 0.50:\n",
    "        y_flatten25[i] = 1.0\n",
    "    else:\n",
    "        y_flatten25[i] = 0"
   ]
  },
  {
   "cell_type": "code",
   "execution_count": 88,
   "metadata": {},
   "outputs": [
    {
     "name": "stdout",
     "output_type": "stream",
     "text": [
      "              precision    recall  f1-score   support\n",
      "\n",
      "           0       0.92      0.93      0.93     59698\n",
      "           1       0.79      0.76      0.78     20143\n",
      "\n",
      "    accuracy                           0.89     79841\n",
      "   macro avg       0.85      0.85      0.85     79841\n",
      "weighted avg       0.89      0.89      0.89     79841\n",
      "\n"
     ]
    }
   ],
   "source": [
    "from sklearn.metrics import classification_report\n",
    "\n",
    "print(classification_report(y_25, y_flatten25))"
   ]
  },
  {
   "cell_type": "code",
   "execution_count": 114,
   "metadata": {},
   "outputs": [],
   "source": [
    "df22.to_csv(\"dataset_Flask.csv\",\n",
    "                  encoding=\"utf-8\", index=False, header=True)"
   ]
  },
  {
   "cell_type": "code",
   "execution_count": 115,
   "metadata": {},
   "outputs": [
    {
     "data": {
      "text/plain": [
       "Name              object\n",
       "City              object\n",
       "State             object\n",
       "Zip                int64\n",
       "Bank              object\n",
       "BankState         object\n",
       "ApprovalFY        object\n",
       "Term               int64\n",
       "NoEmp              int64\n",
       "NewExist         float64\n",
       "CreateJob          int64\n",
       "RetainedJob        int64\n",
       "FranchiseCode      int64\n",
       "UrbanRural         int64\n",
       "RevLineCr         object\n",
       "LowDoc            object\n",
       "MIS_Status         int64\n",
       "ChgOffPrinGr     float64\n",
       "GrAppv           float64\n",
       "SBA_Appv         float64\n",
       "Industry          object\n",
       "dtype: object"
      ]
     },
     "execution_count": 115,
     "metadata": {},
     "output_type": "execute_result"
    }
   ],
   "source": [
    "df22.dtypes"
   ]
  },
  {
   "cell_type": "code",
   "execution_count": 90,
   "metadata": {},
   "outputs": [],
   "source": [
    "# df23.to_csv(\"dataset_Testing.csv\",\n",
    "#                   encoding=\"utf-8\", index=False, header=True)"
   ]
  },
  {
   "cell_type": "code",
   "execution_count": 91,
   "metadata": {},
   "outputs": [
    {
     "data": {
      "text/plain": [
       "Index(['State', 'Term', 'NoEmp', 'NewExist', 'CreateJob', 'RetainedJob',\n",
       "       'FranchiseCode', 'UrbanRural', 'RevLineCr', 'LowDoc', 'MIS_Status',\n",
       "       'GrAppv', 'Industry'],\n",
       "      dtype='object')"
      ]
     },
     "execution_count": 91,
     "metadata": {},
     "output_type": "execute_result"
    }
   ],
   "source": [
    "df23.columns"
   ]
  },
  {
   "cell_type": "markdown",
   "metadata": {},
   "source": [
    "LABEL ENCODING THE COLUMNS TO SEE IF WE CAN CREATE AN INTERFACE FOR USER INPUT"
   ]
  },
  {
   "cell_type": "code",
   "execution_count": 92,
   "metadata": {},
   "outputs": [],
   "source": [
    "df24 = df23.copy()\n"
   ]
  },
  {
   "cell_type": "code",
   "execution_count": 93,
   "metadata": {},
   "outputs": [
    {
     "data": {
      "text/html": [
       "<div>\n",
       "<style scoped>\n",
       "    .dataframe tbody tr th:only-of-type {\n",
       "        vertical-align: middle;\n",
       "    }\n",
       "\n",
       "    .dataframe tbody tr th {\n",
       "        vertical-align: top;\n",
       "    }\n",
       "\n",
       "    .dataframe thead th {\n",
       "        text-align: right;\n",
       "    }\n",
       "</style>\n",
       "<table border=\"1\" class=\"dataframe\">\n",
       "  <thead>\n",
       "    <tr style=\"text-align: right;\">\n",
       "      <th></th>\n",
       "      <th>State</th>\n",
       "      <th>Term</th>\n",
       "      <th>NoEmp</th>\n",
       "      <th>NewExist</th>\n",
       "      <th>CreateJob</th>\n",
       "      <th>RetainedJob</th>\n",
       "      <th>FranchiseCode</th>\n",
       "      <th>UrbanRural</th>\n",
       "      <th>RevLineCr</th>\n",
       "      <th>LowDoc</th>\n",
       "      <th>MIS_Status</th>\n",
       "      <th>GrAppv</th>\n",
       "      <th>Industry</th>\n",
       "      <th>State_Names</th>\n",
       "    </tr>\n",
       "  </thead>\n",
       "  <tbody>\n",
       "    <tr>\n",
       "      <th>24</th>\n",
       "      <td>AR</td>\n",
       "      <td>126</td>\n",
       "      <td>7</td>\n",
       "      <td>1.0</td>\n",
       "      <td>0</td>\n",
       "      <td>0</td>\n",
       "      <td>1</td>\n",
       "      <td>1</td>\n",
       "      <td>N</td>\n",
       "      <td>N</td>\n",
       "      <td>0</td>\n",
       "      <td>137300.0</td>\n",
       "      <td>Accom/Food_serv</td>\n",
       "      <td>AR</td>\n",
       "    </tr>\n",
       "    <tr>\n",
       "      <th>28</th>\n",
       "      <td>CA</td>\n",
       "      <td>83</td>\n",
       "      <td>18</td>\n",
       "      <td>2.0</td>\n",
       "      <td>5</td>\n",
       "      <td>23</td>\n",
       "      <td>1</td>\n",
       "      <td>1</td>\n",
       "      <td>Y</td>\n",
       "      <td>N</td>\n",
       "      <td>0</td>\n",
       "      <td>100000.0</td>\n",
       "      <td>Educational</td>\n",
       "      <td>CA</td>\n",
       "    </tr>\n",
       "    <tr>\n",
       "      <th>30</th>\n",
       "      <td>FL</td>\n",
       "      <td>84</td>\n",
       "      <td>4</td>\n",
       "      <td>1.0</td>\n",
       "      <td>0</td>\n",
       "      <td>4</td>\n",
       "      <td>1</td>\n",
       "      <td>1</td>\n",
       "      <td>Y</td>\n",
       "      <td>N</td>\n",
       "      <td>0</td>\n",
       "      <td>35000.0</td>\n",
       "      <td>Construction</td>\n",
       "      <td>FL</td>\n",
       "    </tr>\n",
       "    <tr>\n",
       "      <th>32</th>\n",
       "      <td>LA</td>\n",
       "      <td>60</td>\n",
       "      <td>3</td>\n",
       "      <td>1.0</td>\n",
       "      <td>0</td>\n",
       "      <td>0</td>\n",
       "      <td>1</td>\n",
       "      <td>1</td>\n",
       "      <td>N</td>\n",
       "      <td>N</td>\n",
       "      <td>0</td>\n",
       "      <td>50000.0</td>\n",
       "      <td>RE/Rental/Lease</td>\n",
       "      <td>LA</td>\n",
       "    </tr>\n",
       "    <tr>\n",
       "      <th>34</th>\n",
       "      <td>TX</td>\n",
       "      <td>80</td>\n",
       "      <td>2</td>\n",
       "      <td>1.0</td>\n",
       "      <td>4</td>\n",
       "      <td>6</td>\n",
       "      <td>1</td>\n",
       "      <td>2</td>\n",
       "      <td>Y</td>\n",
       "      <td>N</td>\n",
       "      <td>0</td>\n",
       "      <td>25000.0</td>\n",
       "      <td>Prof/Science/Tech</td>\n",
       "      <td>TX</td>\n",
       "    </tr>\n",
       "  </tbody>\n",
       "</table>\n",
       "</div>"
      ],
      "text/plain": [
       "   State  Term  NoEmp  NewExist  CreateJob  RetainedJob  FranchiseCode  \\\n",
       "24    AR   126      7       1.0          0            0              1   \n",
       "28    CA    83     18       2.0          5           23              1   \n",
       "30    FL    84      4       1.0          0            4              1   \n",
       "32    LA    60      3       1.0          0            0              1   \n",
       "34    TX    80      2       1.0          4            6              1   \n",
       "\n",
       "    UrbanRural RevLineCr LowDoc  MIS_Status    GrAppv           Industry  \\\n",
       "24           1         N      N           0  137300.0    Accom/Food_serv   \n",
       "28           1         Y      N           0  100000.0        Educational   \n",
       "30           1         Y      N           0   35000.0       Construction   \n",
       "32           1         N      N           0   50000.0    RE/Rental/Lease   \n",
       "34           2         Y      N           0   25000.0  Prof/Science/Tech   \n",
       "\n",
       "   State_Names  \n",
       "24          AR  \n",
       "28          CA  \n",
       "30          FL  \n",
       "32          LA  \n",
       "34          TX  "
      ]
     },
     "execution_count": 93,
     "metadata": {},
     "output_type": "execute_result"
    }
   ],
   "source": [
    "\n",
    "df24['State_Names'] = df24.loc[:, 'State']\n",
    "df25 = df24.copy()\n",
    "df25.head()"
   ]
  },
  {
   "cell_type": "code",
   "execution_count": 94,
   "metadata": {},
   "outputs": [
    {
     "data": {
      "text/plain": [
       "4     43553\n",
       "34    26137\n",
       "43    19762\n",
       "9     18497\n",
       "38    14097\n",
       "35    13928\n",
       "14    12301\n",
       "19    11383\n",
       "22     9452\n",
       "31     9368\n",
       "44     9335\n",
       "47     8087\n",
       "23     7652\n",
       "10     7317\n",
       "5      7144\n",
       "48     6996\n",
       "3      6375\n",
       "15     5692\n",
       "24     5524\n",
       "6      5086\n",
       "30     5075\n",
       "20     4783\n",
       "27     4732\n",
       "45     4594\n",
       "37     4430\n",
       "39     3799\n",
       "13     3575\n",
       "42     2972\n",
       "33     2940\n",
       "36     2818\n",
       "25     2790\n",
       "17     2646\n",
       "16     2386\n",
       "18     2385\n",
       "12     2381\n",
       "1      2020\n",
       "40     1851\n",
       "21     1834\n",
       "26     1749\n",
       "2      1538\n",
       "32     1496\n",
       "29     1471\n",
       "46     1280\n",
       "28     1132\n",
       "11     1034\n",
       "41      827\n",
       "49      801\n",
       "8       788\n",
       "7       584\n",
       "50      533\n",
       "0       435\n",
       "Name: State, dtype: int64"
      ]
     },
     "execution_count": 94,
     "metadata": {},
     "output_type": "execute_result"
    }
   ],
   "source": [
    "from sklearn.preprocessing import LabelEncoder\n",
    "label_e = LabelEncoder()\n",
    "df25['State'] = label_e.fit_transform(df25['State'])\n",
    "df25['State'].value_counts()"
   ]
  },
  {
   "cell_type": "code",
   "execution_count": 95,
   "metadata": {},
   "outputs": [],
   "source": [
    "df25['Industry_Names'] = df25.loc[:, 'Industry']\n",
    "df25['RevLineCr_Type'] = df25.loc[:, 'RevLineCr']\n",
    "df25['LowDoc_Type'] = df25.loc[:, 'LowDoc']\n"
   ]
  },
  {
   "cell_type": "code",
   "execution_count": 96,
   "metadata": {},
   "outputs": [
    {
     "data": {
      "text/plain": [
       "16    53989\n",
       "13    37915\n",
       "4     35368\n",
       "12    29350\n",
       "9     27971\n",
       "0     25749\n",
       "7     22117\n",
       "19    21755\n",
       "1     18264\n",
       "17    13496\n",
       "15     7768\n",
       "3      6032\n",
       "6      5811\n",
       "8      5742\n",
       "5      3565\n",
       "2      3330\n",
       "11      723\n",
       "18      264\n",
       "14       78\n",
       "10       78\n",
       "Name: Industry, dtype: int64"
      ]
     },
     "execution_count": 96,
     "metadata": {},
     "output_type": "execute_result"
    }
   ],
   "source": [
    "df25['Industry'] = label_e.fit_transform(df25['Industry'])\n",
    "\n",
    "\n",
    "df25['RevLineCr'] = label_e.fit_transform(df25['RevLineCr'])\n",
    "\n",
    "df25['LowDoc'] = label_e.fit_transform(df25['LowDoc'])\n",
    "df25['Industry'].value_counts()"
   ]
  },
  {
   "cell_type": "code",
   "execution_count": 97,
   "metadata": {},
   "outputs": [
    {
     "data": {
      "text/html": [
       "<div>\n",
       "<style scoped>\n",
       "    .dataframe tbody tr th:only-of-type {\n",
       "        vertical-align: middle;\n",
       "    }\n",
       "\n",
       "    .dataframe tbody tr th {\n",
       "        vertical-align: top;\n",
       "    }\n",
       "\n",
       "    .dataframe thead th {\n",
       "        text-align: right;\n",
       "    }\n",
       "</style>\n",
       "<table border=\"1\" class=\"dataframe\">\n",
       "  <thead>\n",
       "    <tr style=\"text-align: right;\">\n",
       "      <th></th>\n",
       "      <th>State</th>\n",
       "      <th>Term</th>\n",
       "      <th>NoEmp</th>\n",
       "      <th>NewExist</th>\n",
       "      <th>CreateJob</th>\n",
       "      <th>RetainedJob</th>\n",
       "      <th>FranchiseCode</th>\n",
       "      <th>UrbanRural</th>\n",
       "      <th>RevLineCr</th>\n",
       "      <th>LowDoc</th>\n",
       "      <th>MIS_Status</th>\n",
       "      <th>GrAppv</th>\n",
       "      <th>Industry</th>\n",
       "      <th>State_Names</th>\n",
       "      <th>Industry_Names</th>\n",
       "      <th>RevLineCr_Type</th>\n",
       "      <th>LowDoc_Type</th>\n",
       "    </tr>\n",
       "  </thead>\n",
       "  <tbody>\n",
       "    <tr>\n",
       "      <th>24</th>\n",
       "      <td>2</td>\n",
       "      <td>126</td>\n",
       "      <td>7</td>\n",
       "      <td>1.0</td>\n",
       "      <td>0</td>\n",
       "      <td>0</td>\n",
       "      <td>1</td>\n",
       "      <td>1</td>\n",
       "      <td>0</td>\n",
       "      <td>0</td>\n",
       "      <td>0</td>\n",
       "      <td>137300.0</td>\n",
       "      <td>0</td>\n",
       "      <td>AR</td>\n",
       "      <td>Accom/Food_serv</td>\n",
       "      <td>N</td>\n",
       "      <td>N</td>\n",
       "    </tr>\n",
       "    <tr>\n",
       "      <th>28</th>\n",
       "      <td>4</td>\n",
       "      <td>83</td>\n",
       "      <td>18</td>\n",
       "      <td>2.0</td>\n",
       "      <td>5</td>\n",
       "      <td>23</td>\n",
       "      <td>1</td>\n",
       "      <td>1</td>\n",
       "      <td>1</td>\n",
       "      <td>0</td>\n",
       "      <td>0</td>\n",
       "      <td>100000.0</td>\n",
       "      <td>5</td>\n",
       "      <td>CA</td>\n",
       "      <td>Educational</td>\n",
       "      <td>Y</td>\n",
       "      <td>N</td>\n",
       "    </tr>\n",
       "    <tr>\n",
       "      <th>30</th>\n",
       "      <td>9</td>\n",
       "      <td>84</td>\n",
       "      <td>4</td>\n",
       "      <td>1.0</td>\n",
       "      <td>0</td>\n",
       "      <td>4</td>\n",
       "      <td>1</td>\n",
       "      <td>1</td>\n",
       "      <td>1</td>\n",
       "      <td>0</td>\n",
       "      <td>0</td>\n",
       "      <td>35000.0</td>\n",
       "      <td>4</td>\n",
       "      <td>FL</td>\n",
       "      <td>Construction</td>\n",
       "      <td>Y</td>\n",
       "      <td>N</td>\n",
       "    </tr>\n",
       "    <tr>\n",
       "      <th>32</th>\n",
       "      <td>18</td>\n",
       "      <td>60</td>\n",
       "      <td>3</td>\n",
       "      <td>1.0</td>\n",
       "      <td>0</td>\n",
       "      <td>0</td>\n",
       "      <td>1</td>\n",
       "      <td>1</td>\n",
       "      <td>0</td>\n",
       "      <td>0</td>\n",
       "      <td>0</td>\n",
       "      <td>50000.0</td>\n",
       "      <td>15</td>\n",
       "      <td>LA</td>\n",
       "      <td>RE/Rental/Lease</td>\n",
       "      <td>N</td>\n",
       "      <td>N</td>\n",
       "    </tr>\n",
       "    <tr>\n",
       "      <th>34</th>\n",
       "      <td>43</td>\n",
       "      <td>80</td>\n",
       "      <td>2</td>\n",
       "      <td>1.0</td>\n",
       "      <td>4</td>\n",
       "      <td>6</td>\n",
       "      <td>1</td>\n",
       "      <td>2</td>\n",
       "      <td>1</td>\n",
       "      <td>0</td>\n",
       "      <td>0</td>\n",
       "      <td>25000.0</td>\n",
       "      <td>13</td>\n",
       "      <td>TX</td>\n",
       "      <td>Prof/Science/Tech</td>\n",
       "      <td>Y</td>\n",
       "      <td>N</td>\n",
       "    </tr>\n",
       "    <tr>\n",
       "      <th>65</th>\n",
       "      <td>0</td>\n",
       "      <td>83</td>\n",
       "      <td>2</td>\n",
       "      <td>1.0</td>\n",
       "      <td>0</td>\n",
       "      <td>2</td>\n",
       "      <td>1</td>\n",
       "      <td>1</td>\n",
       "      <td>1</td>\n",
       "      <td>0</td>\n",
       "      <td>0</td>\n",
       "      <td>30000.0</td>\n",
       "      <td>9</td>\n",
       "      <td>AK</td>\n",
       "      <td>Manufacturing</td>\n",
       "      <td>Y</td>\n",
       "      <td>N</td>\n",
       "    </tr>\n",
       "    <tr>\n",
       "      <th>67</th>\n",
       "      <td>43</td>\n",
       "      <td>26</td>\n",
       "      <td>4</td>\n",
       "      <td>2.0</td>\n",
       "      <td>1</td>\n",
       "      <td>5</td>\n",
       "      <td>1</td>\n",
       "      <td>2</td>\n",
       "      <td>1</td>\n",
       "      <td>0</td>\n",
       "      <td>1</td>\n",
       "      <td>20000.0</td>\n",
       "      <td>16</td>\n",
       "      <td>TX</td>\n",
       "      <td>Retail_trade</td>\n",
       "      <td>Y</td>\n",
       "      <td>N</td>\n",
       "    </tr>\n",
       "    <tr>\n",
       "      <th>77</th>\n",
       "      <td>4</td>\n",
       "      <td>36</td>\n",
       "      <td>18</td>\n",
       "      <td>1.0</td>\n",
       "      <td>1</td>\n",
       "      <td>19</td>\n",
       "      <td>1</td>\n",
       "      <td>1</td>\n",
       "      <td>1</td>\n",
       "      <td>0</td>\n",
       "      <td>0</td>\n",
       "      <td>300000.0</td>\n",
       "      <td>19</td>\n",
       "      <td>CA</td>\n",
       "      <td>Wholesale_trade</td>\n",
       "      <td>Y</td>\n",
       "      <td>N</td>\n",
       "    </tr>\n",
       "    <tr>\n",
       "      <th>89</th>\n",
       "      <td>5</td>\n",
       "      <td>54</td>\n",
       "      <td>4</td>\n",
       "      <td>1.0</td>\n",
       "      <td>8</td>\n",
       "      <td>4</td>\n",
       "      <td>1</td>\n",
       "      <td>2</td>\n",
       "      <td>1</td>\n",
       "      <td>0</td>\n",
       "      <td>1</td>\n",
       "      <td>30000.0</td>\n",
       "      <td>1</td>\n",
       "      <td>CO</td>\n",
       "      <td>Admin_sup/Waste_Mgmt_Rem</td>\n",
       "      <td>Y</td>\n",
       "      <td>N</td>\n",
       "    </tr>\n",
       "    <tr>\n",
       "      <th>123</th>\n",
       "      <td>16</td>\n",
       "      <td>60</td>\n",
       "      <td>8</td>\n",
       "      <td>2.0</td>\n",
       "      <td>0</td>\n",
       "      <td>0</td>\n",
       "      <td>1</td>\n",
       "      <td>1</td>\n",
       "      <td>0</td>\n",
       "      <td>0</td>\n",
       "      <td>0</td>\n",
       "      <td>95000.0</td>\n",
       "      <td>0</td>\n",
       "      <td>KS</td>\n",
       "      <td>Accom/Food_serv</td>\n",
       "      <td>N</td>\n",
       "      <td>N</td>\n",
       "    </tr>\n",
       "  </tbody>\n",
       "</table>\n",
       "</div>"
      ],
      "text/plain": [
       "     State  Term  NoEmp  NewExist  CreateJob  RetainedJob  FranchiseCode  \\\n",
       "24       2   126      7       1.0          0            0              1   \n",
       "28       4    83     18       2.0          5           23              1   \n",
       "30       9    84      4       1.0          0            4              1   \n",
       "32      18    60      3       1.0          0            0              1   \n",
       "34      43    80      2       1.0          4            6              1   \n",
       "65       0    83      2       1.0          0            2              1   \n",
       "67      43    26      4       2.0          1            5              1   \n",
       "77       4    36     18       1.0          1           19              1   \n",
       "89       5    54      4       1.0          8            4              1   \n",
       "123     16    60      8       2.0          0            0              1   \n",
       "\n",
       "     UrbanRural  RevLineCr  LowDoc  MIS_Status    GrAppv  Industry  \\\n",
       "24            1          0       0           0  137300.0         0   \n",
       "28            1          1       0           0  100000.0         5   \n",
       "30            1          1       0           0   35000.0         4   \n",
       "32            1          0       0           0   50000.0        15   \n",
       "34            2          1       0           0   25000.0        13   \n",
       "65            1          1       0           0   30000.0         9   \n",
       "67            2          1       0           1   20000.0        16   \n",
       "77            1          1       0           0  300000.0        19   \n",
       "89            2          1       0           1   30000.0         1   \n",
       "123           1          0       0           0   95000.0         0   \n",
       "\n",
       "    State_Names            Industry_Names RevLineCr_Type LowDoc_Type  \n",
       "24           AR           Accom/Food_serv              N           N  \n",
       "28           CA               Educational              Y           N  \n",
       "30           FL              Construction              Y           N  \n",
       "32           LA           RE/Rental/Lease              N           N  \n",
       "34           TX         Prof/Science/Tech              Y           N  \n",
       "65           AK             Manufacturing              Y           N  \n",
       "67           TX              Retail_trade              Y           N  \n",
       "77           CA           Wholesale_trade              Y           N  \n",
       "89           CO  Admin_sup/Waste_Mgmt_Rem              Y           N  \n",
       "123          KS           Accom/Food_serv              N           N  "
      ]
     },
     "execution_count": 97,
     "metadata": {},
     "output_type": "execute_result"
    }
   ],
   "source": [
    "df25.head(10)"
   ]
  },
  {
   "cell_type": "code",
   "execution_count": 98,
   "metadata": {},
   "outputs": [
    {
     "data": {
      "text/html": [
       "<div>\n",
       "<style scoped>\n",
       "    .dataframe tbody tr th:only-of-type {\n",
       "        vertical-align: middle;\n",
       "    }\n",
       "\n",
       "    .dataframe tbody tr th {\n",
       "        vertical-align: top;\n",
       "    }\n",
       "\n",
       "    .dataframe thead th {\n",
       "        text-align: right;\n",
       "    }\n",
       "</style>\n",
       "<table border=\"1\" class=\"dataframe\">\n",
       "  <thead>\n",
       "    <tr style=\"text-align: right;\">\n",
       "      <th></th>\n",
       "      <th>State</th>\n",
       "      <th>Term</th>\n",
       "      <th>NoEmp</th>\n",
       "      <th>NewExist</th>\n",
       "      <th>CreateJob</th>\n",
       "      <th>RetainedJob</th>\n",
       "      <th>FranchiseCode</th>\n",
       "      <th>UrbanRural</th>\n",
       "      <th>RevLineCr</th>\n",
       "      <th>LowDoc</th>\n",
       "      <th>MIS_Status</th>\n",
       "      <th>GrAppv</th>\n",
       "      <th>Industry</th>\n",
       "    </tr>\n",
       "  </thead>\n",
       "  <tbody>\n",
       "    <tr>\n",
       "      <th>24</th>\n",
       "      <td>2</td>\n",
       "      <td>126</td>\n",
       "      <td>7</td>\n",
       "      <td>1.0</td>\n",
       "      <td>0</td>\n",
       "      <td>0</td>\n",
       "      <td>1</td>\n",
       "      <td>1</td>\n",
       "      <td>0</td>\n",
       "      <td>0</td>\n",
       "      <td>0</td>\n",
       "      <td>137300.0</td>\n",
       "      <td>0</td>\n",
       "    </tr>\n",
       "    <tr>\n",
       "      <th>28</th>\n",
       "      <td>4</td>\n",
       "      <td>83</td>\n",
       "      <td>18</td>\n",
       "      <td>2.0</td>\n",
       "      <td>5</td>\n",
       "      <td>23</td>\n",
       "      <td>1</td>\n",
       "      <td>1</td>\n",
       "      <td>1</td>\n",
       "      <td>0</td>\n",
       "      <td>0</td>\n",
       "      <td>100000.0</td>\n",
       "      <td>5</td>\n",
       "    </tr>\n",
       "    <tr>\n",
       "      <th>30</th>\n",
       "      <td>9</td>\n",
       "      <td>84</td>\n",
       "      <td>4</td>\n",
       "      <td>1.0</td>\n",
       "      <td>0</td>\n",
       "      <td>4</td>\n",
       "      <td>1</td>\n",
       "      <td>1</td>\n",
       "      <td>1</td>\n",
       "      <td>0</td>\n",
       "      <td>0</td>\n",
       "      <td>35000.0</td>\n",
       "      <td>4</td>\n",
       "    </tr>\n",
       "    <tr>\n",
       "      <th>32</th>\n",
       "      <td>18</td>\n",
       "      <td>60</td>\n",
       "      <td>3</td>\n",
       "      <td>1.0</td>\n",
       "      <td>0</td>\n",
       "      <td>0</td>\n",
       "      <td>1</td>\n",
       "      <td>1</td>\n",
       "      <td>0</td>\n",
       "      <td>0</td>\n",
       "      <td>0</td>\n",
       "      <td>50000.0</td>\n",
       "      <td>15</td>\n",
       "    </tr>\n",
       "    <tr>\n",
       "      <th>34</th>\n",
       "      <td>43</td>\n",
       "      <td>80</td>\n",
       "      <td>2</td>\n",
       "      <td>1.0</td>\n",
       "      <td>4</td>\n",
       "      <td>6</td>\n",
       "      <td>1</td>\n",
       "      <td>2</td>\n",
       "      <td>1</td>\n",
       "      <td>0</td>\n",
       "      <td>0</td>\n",
       "      <td>25000.0</td>\n",
       "      <td>13</td>\n",
       "    </tr>\n",
       "  </tbody>\n",
       "</table>\n",
       "</div>"
      ],
      "text/plain": [
       "    State  Term  NoEmp  NewExist  CreateJob  RetainedJob  FranchiseCode  \\\n",
       "24      2   126      7       1.0          0            0              1   \n",
       "28      4    83     18       2.0          5           23              1   \n",
       "30      9    84      4       1.0          0            4              1   \n",
       "32     18    60      3       1.0          0            0              1   \n",
       "34     43    80      2       1.0          4            6              1   \n",
       "\n",
       "    UrbanRural  RevLineCr  LowDoc  MIS_Status    GrAppv  Industry  \n",
       "24           1          0       0           0  137300.0         0  \n",
       "28           1          1       0           0  100000.0         5  \n",
       "30           1          1       0           0   35000.0         4  \n",
       "32           1          0       0           0   50000.0        15  \n",
       "34           2          1       0           0   25000.0        13  "
      ]
     },
     "execution_count": 98,
     "metadata": {},
     "output_type": "execute_result"
    }
   ],
   "source": [
    "df27 = df25.drop(columns=['Industry_Names', 'RevLineCr_Type','LowDoc_Type', 'State_Names' ], axis = 'columns')\n",
    "df27.head()"
   ]
  },
  {
   "cell_type": "code",
   "execution_count": 99,
   "metadata": {},
   "outputs": [
    {
     "data": {
      "text/plain": [
       "(319365,)"
      ]
     },
     "execution_count": 99,
     "metadata": {},
     "output_type": "execute_result"
    }
   ],
   "source": [
    "X = df27.drop(\"MIS_Status\", axis = 1)\n",
    "y= df27[\"MIS_Status\"]\n",
    "y.shape"
   ]
  },
  {
   "cell_type": "code",
   "execution_count": 100,
   "metadata": {},
   "outputs": [],
   "source": [
    "X_train_N, X_val_N, y_train_N, y_val_N = train_test_split(X, y, test_size= 0.20, stratify= y)\n",
    "\n",
    "X1= X_train_N\n",
    "y1 = y_train_N\n",
    "X_train_N, X_test_N, y_train_N, y_test_N = train_test_split(X1, y1, test_size= 0.20, stratify= y1)"
   ]
  },
  {
   "cell_type": "code",
   "execution_count": 101,
   "metadata": {},
   "outputs": [
    {
     "data": {
      "text/plain": [
       "(204393, 12)"
      ]
     },
     "execution_count": 101,
     "metadata": {},
     "output_type": "execute_result"
    }
   ],
   "source": [
    "\n",
    "#Scaling the dataframe\n",
    "\n",
    "from sklearn.preprocessing import StandardScaler\n",
    "scaler= StandardScaler()\n",
    "X_scaler_N = scaler.fit(X_train_N)\n",
    "\n",
    "X_train_scaled_N = X_scaler_N.transform(X_train_N)\n",
    "X_test_scaled_N = X_scaler_N.transform(X_test_N)\n",
    "X_val_scaled_N = X_scaler_N.transform(X_val_N)\n",
    "X_train_scaled_N.shape"
   ]
  },
  {
   "cell_type": "code",
   "execution_count": 102,
   "metadata": {},
   "outputs": [],
   "source": [
    "from sklearn.ensemble import BaggingClassifier\n",
    "from sklearn.tree import DecisionTreeClassifier\n",
    "# from sklearn .svm import SVC\n",
    "bag_N = BaggingClassifier(\n",
    "    base_estimator = DecisionTreeClassifier(),\n",
    "    n_estimators = 500,\n",
    "    max_samples = 0.80, #no of samples from Xtrain\n",
    "    bootstrap = True,\n",
    "    random_state =  42\n",
    ")"
   ]
  },
  {
   "cell_type": "code",
   "execution_count": 103,
   "metadata": {},
   "outputs": [
    {
     "data": {
      "text/plain": [
       "(204393, 12)"
      ]
     },
     "execution_count": 103,
     "metadata": {},
     "output_type": "execute_result"
    }
   ],
   "source": [
    "X_train_scaled_N.shape"
   ]
  },
  {
   "cell_type": "code",
   "execution_count": 104,
   "metadata": {},
   "outputs": [
    {
     "name": "stderr",
     "output_type": "stream",
     "text": [
      "c:\\Users\\ljm47\\anaconda3\\envs\\dev\\lib\\site-packages\\sklearn\\ensemble\\_base.py:166: FutureWarning: `base_estimator` was renamed to `estimator` in version 1.2 and will be removed in 1.4.\n",
      "  warnings.warn(\n"
     ]
    },
    {
     "name": "stdout",
     "output_type": "stream",
     "text": [
      "Classification report for X_Test_N\n",
      "              precision    recall  f1-score   support\n",
      "\n",
      "           0       0.96      0.96      0.96     38100\n",
      "           1       0.87      0.88      0.88     12999\n",
      "\n",
      "    accuracy                           0.94     51099\n",
      "   macro avg       0.92      0.92      0.92     51099\n",
      "weighted avg       0.94      0.94      0.94     51099\n",
      "\n",
      "              precision    recall  f1-score   support\n",
      "\n",
      "           0       0.96      0.95      0.96     47624\n",
      "           1       0.87      0.88      0.87     16249\n",
      "\n",
      "    accuracy                           0.94     63873\n",
      "   macro avg       0.91      0.92      0.92     63873\n",
      "weighted avg       0.94      0.94      0.94     63873\n",
      "\n"
     ]
    }
   ],
   "source": [
    "bag_N.fit(X_train_scaled_N, y_train_N)\n",
    "\n",
    "y_pred = bag_N.predict(X_test_scaled_N)\n",
    "y_predict_val = bag_N.predict(X_val_scaled_N)\n",
    "print(\"Classification report for X_Test_N\")\n",
    "print(classification_report(y_test_N, y_pred))\n",
    "\n",
    "print(classification_report(y_val_N,y_predict_val))"
   ]
  },
  {
   "cell_type": "code",
   "execution_count": 105,
   "metadata": {},
   "outputs": [
    {
     "data": {
      "text/plain": [
       "334398    0\n",
       "295319    1\n",
       "286301    0\n",
       "295367    1\n",
       "134828    0\n",
       "         ..\n",
       "350345    0\n",
       "790455    1\n",
       "185551    0\n",
       "532960    0\n",
       "122399    1\n",
       "Name: MIS_Status, Length: 63873, dtype: int64"
      ]
     },
     "execution_count": 105,
     "metadata": {},
     "output_type": "execute_result"
    }
   ],
   "source": [
    "y_val_N"
   ]
  },
  {
   "cell_type": "code",
   "execution_count": 106,
   "metadata": {},
   "outputs": [
    {
     "name": "stdout",
     "output_type": "stream",
     "text": [
      "[[ 0.68170197 -0.02253126  1.43457924 -0.59823533 -0.12068188  2.58791489\n",
      "  -0.95764138 -0.46395109  0.92776082 -0.05836941 -0.37016568  1.01971614]]\n",
      "[0]\n",
      "the person will likely NOT DEFAULT on his Loan, Loan may be approved\n"
     ]
    },
    {
     "name": "stderr",
     "output_type": "stream",
     "text": [
      "c:\\Users\\ljm47\\anaconda3\\envs\\dev\\lib\\site-packages\\sklearn\\base.py:439: UserWarning: X does not have valid feature names, but StandardScaler was fitted with feature names\n",
      "  warnings.warn(\n"
     ]
    }
   ],
   "source": [
    "input_data = (34,84,50,1,0,50,0,1,1,0,35000,16)\n",
    "input_data_as_numpy_arry = np.asarray(input_data)\n",
    "input_data_reshaped = input_data_as_numpy_arry.reshape(1,-1)\n",
    "Input_data_scaled = X_scaler_N.transform(input_data_reshaped)\n",
    "print(Input_data_scaled)\n",
    "\n",
    "prediction = bag_N.predict(Input_data_scaled)\n",
    "\n",
    "print(prediction)\n",
    "\n",
    "if (prediction[0]== 0):\n",
    "    print(\"the person will likely NOT DEFAULT on his Loan, Loan may be approved\")\n",
    "else:\n",
    "    print(\"The person is likely to default on his Loan, proceed with caution\")"
   ]
  },
  {
   "cell_type": "code",
   "execution_count": 107,
   "metadata": {},
   "outputs": [],
   "source": [
    "#Saving training Model\n",
    "import pickle"
   ]
  },
  {
   "cell_type": "code",
   "execution_count": 108,
   "metadata": {},
   "outputs": [],
   "source": [
    "#writing model \n",
    "filename = 'trained_model_v2.sav'\n",
    "pickle.dump(bag_N, open(filename, 'wb')) #wb= write binary : writing the sav file using the trained model.\n",
    "\n"
   ]
  },
  {
   "cell_type": "code",
   "execution_count": 109,
   "metadata": {},
   "outputs": [],
   "source": [
    "#loading the saved model to check\n",
    "\n",
    "loaded_model_v2 = pickle.load(open('trained_model_v2.sav', 'rb')) #writebinary\n",
    "#this model will be loaded in variable called : loaded_model"
   ]
  },
  {
   "cell_type": "code",
   "execution_count": 110,
   "metadata": {},
   "outputs": [
    {
     "name": "stdout",
     "output_type": "stream",
     "text": [
      "[0]\n",
      "the person will likely NOT DEFAULT on his Loan, Loan may be approved\n"
     ]
    }
   ],
   "source": [
    "#predicting using Loaded model, Scaler function not used. \n",
    "\n",
    "input_data = (34,84,50,1,0,50,0,1,1,0,35000,16)\n",
    "input_data_as_numpy_arry = np.asarray(input_data)\n",
    "input_data_reshaped = input_data_as_numpy_arry.reshape(1,-1)\n",
    "# Input_data_scaled = X_scaler_N.transform(input_data_reshaped)\n",
    "# print(Input_data_scaled)\n",
    "\n",
    "prediction = loaded_model_v2.predict(input_data_reshaped)\n",
    "\n",
    "print(prediction)\n",
    "\n",
    "if (prediction[0]== 0):\n",
    "    print(\"the person will likely NOT DEFAULT on his Loan, Loan may be approved\")\n",
    "else:\n",
    "    print(\"The person is likely to default on his Loan, proceed with caution\")"
   ]
  },
  {
   "cell_type": "code",
   "execution_count": 111,
   "metadata": {},
   "outputs": [
    {
     "data": {
      "text/plain": [
       "Index(['State', 'Term', 'NoEmp', 'NewExist', 'CreateJob', 'RetainedJob',\n",
       "       'FranchiseCode', 'UrbanRural', 'RevLineCr', 'LowDoc', 'MIS_Status',\n",
       "       'GrAppv', 'Industry'],\n",
       "      dtype='object')"
      ]
     },
     "execution_count": 111,
     "metadata": {},
     "output_type": "execute_result"
    }
   ],
   "source": [
    "df27.columns"
   ]
  },
  {
   "cell_type": "code",
   "execution_count": 112,
   "metadata": {},
   "outputs": [
    {
     "data": {
      "text/plain": [
       "Name              object\n",
       "City              object\n",
       "State             object\n",
       "Zip                int64\n",
       "Bank              object\n",
       "BankState         object\n",
       "ApprovalFY        object\n",
       "Term               int64\n",
       "NoEmp              int64\n",
       "NewExist         float64\n",
       "CreateJob          int64\n",
       "RetainedJob        int64\n",
       "FranchiseCode      int64\n",
       "UrbanRural         int64\n",
       "RevLineCr         object\n",
       "LowDoc            object\n",
       "MIS_Status         int64\n",
       "ChgOffPrinGr     float64\n",
       "GrAppv           float64\n",
       "SBA_Appv         float64\n",
       "Industry          object\n",
       "dtype: object"
      ]
     },
     "execution_count": 112,
     "metadata": {},
     "output_type": "execute_result"
    }
   ],
   "source": [
    "df22.dtypes"
   ]
  }
 ],
 "metadata": {
  "kernelspec": {
   "display_name": "dev",
   "language": "python",
   "name": "python3"
  },
  "language_info": {
   "codemirror_mode": {
    "name": "ipython",
    "version": 3
   },
   "file_extension": ".py",
   "mimetype": "text/x-python",
   "name": "python",
   "nbconvert_exporter": "python",
   "pygments_lexer": "ipython3",
   "version": "3.10.9"
  },
  "orig_nbformat": 4
 },
 "nbformat": 4,
 "nbformat_minor": 2
}
